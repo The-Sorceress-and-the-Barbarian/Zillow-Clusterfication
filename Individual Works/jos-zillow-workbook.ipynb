{
 "cells": [
  {
   "cell_type": "markdown",
   "id": "df96cafb",
   "metadata": {},
   "source": [
    "# Clustering Project Notebook\n",
    "\n",
    "![Image of Zillow Logo](https://www.roundtablerealty.com/uploads/agent-1/699119.png)\n",
    "\n",
    "\n",
    "\n",
    "\n",
    "### Zillow: What is driving the errors in the Zestimates?\n",
    "#### Background:\n",
    " Zillow, a real estate website in the United States, uses a Zestimate to estimate a property's market value.\n",
    "> What is a Zestimate?     & \n",
    "How is the Zestimate calculated? - zillow.com\n",
    "\n",
    "> For this project, we will look into finding drivers of error in the Zestimate. Using clustering methodologies, feature identification and comparison, visualizations, statistical testing, and regression models, we are to find drivers of error to predict log error.\n",
    "\n",
    "### Project Goals:\n",
    " - Using Zillow data for single unit/single family homes sold in 2017, find drivers of log error in the Zestimate.\n",
    "\n",
    " - Create 4 regression models to predict log error\n",
    "\n",
    " - Use clustering methodologies to help identify drivers of log error\n",
    "\n",
    " - Deliver findings in a final Jupyter Notebook presentation\n",
    "\n",
    "## Executive Summary:\n",
    "#### Findings Include:\n",
    "#### Takeaways:\n",
    "#### Next Steps to Explore Further:"
   ]
  },
  {
   "cell_type": "code",
   "execution_count": 14,
   "id": "79a25bc5",
   "metadata": {},
   "outputs": [],
   "source": [
    "# ignore warnings\n",
    "import warnings\n",
    "warnings.filterwarnings(\"ignore\")\n",
    "\n",
    "# Wrangling\n",
    "import pandas as pd\n",
    "import numpy as np\n",
    "from sklearn.model_selection import train_test_split\n",
    "\n",
    "# Statistical Tests\n",
    "import scipy.stats as stats\n",
    "\n",
    "# Visualizing\n",
    "import matplotlib.pyplot as plt\n",
    "from matplotlib import cm\n",
    "import seaborn as sns\n",
    "from sklearn.model_selection import learning_curve\n",
    "import env\n",
    "\n",
    "# supress scientific notation\n",
    "np.set_printoptions(suppress=True)\n",
    "\n",
    "from sklearn.cluster import KMeans\n",
    "from sklearn.preprocessing import MinMaxScaler, StandardScaler\n",
    "from sklearn.preprocessing import PolynomialFeatures\n",
    "from sklearn.feature_selection import SelectKBest, f_regression, RFE\n",
    "from sklearn.linear_model import LinearRegression, LassoLars, TweedieRegressor, LogisticRegression\n",
    "from sklearn.metrics import mean_squared_error\n",
    "from sklearn.metrics import explained_variance_score\n",
    "import wrangle"
   ]
  },
  {
   "cell_type": "code",
   "execution_count": 15,
   "id": "0a812982",
   "metadata": {},
   "outputs": [],
   "source": [
    "df = wrangle.get_zillow_data()"
   ]
  },
  {
   "cell_type": "code",
   "execution_count": 16,
   "id": "a2b0c0dc",
   "metadata": {},
   "outputs": [
    {
     "data": {
      "text/html": [
       "<div>\n",
       "<style scoped>\n",
       "    .dataframe tbody tr th:only-of-type {\n",
       "        vertical-align: middle;\n",
       "    }\n",
       "\n",
       "    .dataframe tbody tr th {\n",
       "        vertical-align: top;\n",
       "    }\n",
       "\n",
       "    .dataframe thead th {\n",
       "        text-align: right;\n",
       "    }\n",
       "</style>\n",
       "<table border=\"1\" class=\"dataframe\">\n",
       "  <thead>\n",
       "    <tr style=\"text-align: right;\">\n",
       "      <th></th>\n",
       "      <th>bedrooms</th>\n",
       "      <th>bathrooms</th>\n",
       "      <th>squarefeet</th>\n",
       "      <th>year_built</th>\n",
       "      <th>regionidzip</th>\n",
       "      <th>fips</th>\n",
       "      <th>tax_value</th>\n",
       "      <th>logerror</th>\n",
       "    </tr>\n",
       "  </thead>\n",
       "  <tbody>\n",
       "    <tr>\n",
       "      <th>0</th>\n",
       "      <td>4.0</td>\n",
       "      <td>3.5</td>\n",
       "      <td>3100.0</td>\n",
       "      <td>1998.0</td>\n",
       "      <td>96978.0</td>\n",
       "      <td>6059.0</td>\n",
       "      <td>1023282.0</td>\n",
       "      <td>0.025595</td>\n",
       "    </tr>\n",
       "    <tr>\n",
       "      <th>1</th>\n",
       "      <td>2.0</td>\n",
       "      <td>1.0</td>\n",
       "      <td>1465.0</td>\n",
       "      <td>1967.0</td>\n",
       "      <td>97099.0</td>\n",
       "      <td>6111.0</td>\n",
       "      <td>464000.0</td>\n",
       "      <td>0.055619</td>\n",
       "    </tr>\n",
       "    <tr>\n",
       "      <th>2</th>\n",
       "      <td>3.0</td>\n",
       "      <td>2.0</td>\n",
       "      <td>1243.0</td>\n",
       "      <td>1962.0</td>\n",
       "      <td>97078.0</td>\n",
       "      <td>6059.0</td>\n",
       "      <td>564778.0</td>\n",
       "      <td>0.005383</td>\n",
       "    </tr>\n",
       "    <tr>\n",
       "      <th>3</th>\n",
       "      <td>4.0</td>\n",
       "      <td>3.0</td>\n",
       "      <td>2376.0</td>\n",
       "      <td>1970.0</td>\n",
       "      <td>96330.0</td>\n",
       "      <td>6037.0</td>\n",
       "      <td>145143.0</td>\n",
       "      <td>-0.103410</td>\n",
       "    </tr>\n",
       "    <tr>\n",
       "      <th>4</th>\n",
       "      <td>4.0</td>\n",
       "      <td>3.0</td>\n",
       "      <td>2962.0</td>\n",
       "      <td>1950.0</td>\n",
       "      <td>96293.0</td>\n",
       "      <td>6037.0</td>\n",
       "      <td>773303.0</td>\n",
       "      <td>-0.001011</td>\n",
       "    </tr>\n",
       "  </tbody>\n",
       "</table>\n",
       "</div>"
      ],
      "text/plain": [
       "   bedrooms  bathrooms  squarefeet  year_built  regionidzip    fips  \\\n",
       "0       4.0        3.5      3100.0      1998.0      96978.0  6059.0   \n",
       "1       2.0        1.0      1465.0      1967.0      97099.0  6111.0   \n",
       "2       3.0        2.0      1243.0      1962.0      97078.0  6059.0   \n",
       "3       4.0        3.0      2376.0      1970.0      96330.0  6037.0   \n",
       "4       4.0        3.0      2962.0      1950.0      96293.0  6037.0   \n",
       "\n",
       "   tax_value  logerror  \n",
       "0  1023282.0  0.025595  \n",
       "1   464000.0  0.055619  \n",
       "2   564778.0  0.005383  \n",
       "3   145143.0 -0.103410  \n",
       "4   773303.0 -0.001011  "
      ]
     },
     "execution_count": 16,
     "metadata": {},
     "output_type": "execute_result"
    }
   ],
   "source": [
    "df.head()"
   ]
  },
  {
   "cell_type": "markdown",
   "id": "542e42cc",
   "metadata": {},
   "source": [
    "## Data Acquisition / Prep / Wrangling Takeaways:\n",
    " - Created and used functions in wrangle.py to acquire and prep data\n",
    "\n",
    " - Used a SQL query to join 7 tables\n",
    "\n",
    " - Selected only single family properties filtered by:\n",
    "   - Properties with propertylandusetypeid = 261\n",
    "   - Only retrieving latest transaction date, eliminating duplicates sold more than once in same year\n",
    "   - Only selecting properties with at least 1 bath & bed and 350 sqft area\n",
    "   - Only properties with a latitude and longitude that is not null\n",
    "   - Dropping columns that are less than 70% populated, mostly empty columns\n",
    "   - Adding a 'county' column based on FIPS unique county identifier feature\n",
    "   - Dropping columns that are not useful features or redundant\n",
    "   - Filling null values in unitcnt column with 1 since all are single unit properties\n",
    "   - Replacing nulls with median values for select columns:\n",
    "     - 7313 for lotsizesquarefeet\n",
    "     - 6.0 for buildingqualitytypeid -Since this is Southern CA, filling null with 'None' for heatingorsystemdesc because most likely don't have one -Rename columns for easier readability -Removed outliers based on Inter Quartile Rule for properties with outliers in square footage, price, bedrooms, and bathrooms"
   ]
  },
  {
   "cell_type": "markdown",
   "id": "c9efb66b",
   "metadata": {},
   "source": [
    "____\n",
    "\n",
    "# Explore"
   ]
  },
  {
   "cell_type": "code",
   "execution_count": 17,
   "id": "761729f3",
   "metadata": {},
   "outputs": [
    {
     "data": {
      "text/plain": [
       "(52442, 8)"
      ]
     },
     "execution_count": 17,
     "metadata": {},
     "output_type": "execute_result"
    }
   ],
   "source": [
    "df.shape"
   ]
  },
  {
   "cell_type": "code",
   "execution_count": 18,
   "id": "6df74d19",
   "metadata": {},
   "outputs": [
    {
     "data": {
      "text/html": [
       "<div>\n",
       "<style scoped>\n",
       "    .dataframe tbody tr th:only-of-type {\n",
       "        vertical-align: middle;\n",
       "    }\n",
       "\n",
       "    .dataframe tbody tr th {\n",
       "        vertical-align: top;\n",
       "    }\n",
       "\n",
       "    .dataframe thead th {\n",
       "        text-align: right;\n",
       "    }\n",
       "</style>\n",
       "<table border=\"1\" class=\"dataframe\">\n",
       "  <thead>\n",
       "    <tr style=\"text-align: right;\">\n",
       "      <th></th>\n",
       "      <th>bedrooms</th>\n",
       "      <th>bathrooms</th>\n",
       "      <th>squarefeet</th>\n",
       "      <th>year_built</th>\n",
       "      <th>regionidzip</th>\n",
       "      <th>fips</th>\n",
       "      <th>tax_value</th>\n",
       "      <th>logerror</th>\n",
       "    </tr>\n",
       "  </thead>\n",
       "  <tbody>\n",
       "    <tr>\n",
       "      <th>0</th>\n",
       "      <td>4.0</td>\n",
       "      <td>3.5</td>\n",
       "      <td>3100.0</td>\n",
       "      <td>1998.0</td>\n",
       "      <td>96978.0</td>\n",
       "      <td>6059.0</td>\n",
       "      <td>1023282.0</td>\n",
       "      <td>0.025595</td>\n",
       "    </tr>\n",
       "    <tr>\n",
       "      <th>1</th>\n",
       "      <td>2.0</td>\n",
       "      <td>1.0</td>\n",
       "      <td>1465.0</td>\n",
       "      <td>1967.0</td>\n",
       "      <td>97099.0</td>\n",
       "      <td>6111.0</td>\n",
       "      <td>464000.0</td>\n",
       "      <td>0.055619</td>\n",
       "    </tr>\n",
       "    <tr>\n",
       "      <th>2</th>\n",
       "      <td>3.0</td>\n",
       "      <td>2.0</td>\n",
       "      <td>1243.0</td>\n",
       "      <td>1962.0</td>\n",
       "      <td>97078.0</td>\n",
       "      <td>6059.0</td>\n",
       "      <td>564778.0</td>\n",
       "      <td>0.005383</td>\n",
       "    </tr>\n",
       "    <tr>\n",
       "      <th>3</th>\n",
       "      <td>4.0</td>\n",
       "      <td>3.0</td>\n",
       "      <td>2376.0</td>\n",
       "      <td>1970.0</td>\n",
       "      <td>96330.0</td>\n",
       "      <td>6037.0</td>\n",
       "      <td>145143.0</td>\n",
       "      <td>-0.103410</td>\n",
       "    </tr>\n",
       "    <tr>\n",
       "      <th>4</th>\n",
       "      <td>4.0</td>\n",
       "      <td>3.0</td>\n",
       "      <td>2962.0</td>\n",
       "      <td>1950.0</td>\n",
       "      <td>96293.0</td>\n",
       "      <td>6037.0</td>\n",
       "      <td>773303.0</td>\n",
       "      <td>-0.001011</td>\n",
       "    </tr>\n",
       "  </tbody>\n",
       "</table>\n",
       "</div>"
      ],
      "text/plain": [
       "   bedrooms  bathrooms  squarefeet  year_built  regionidzip    fips  \\\n",
       "0       4.0        3.5      3100.0      1998.0      96978.0  6059.0   \n",
       "1       2.0        1.0      1465.0      1967.0      97099.0  6111.0   \n",
       "2       3.0        2.0      1243.0      1962.0      97078.0  6059.0   \n",
       "3       4.0        3.0      2376.0      1970.0      96330.0  6037.0   \n",
       "4       4.0        3.0      2962.0      1950.0      96293.0  6037.0   \n",
       "\n",
       "   tax_value  logerror  \n",
       "0  1023282.0  0.025595  \n",
       "1   464000.0  0.055619  \n",
       "2   564778.0  0.005383  \n",
       "3   145143.0 -0.103410  \n",
       "4   773303.0 -0.001011  "
      ]
     },
     "execution_count": 18,
     "metadata": {},
     "output_type": "execute_result"
    }
   ],
   "source": [
    "df.head()"
   ]
  },
  {
   "cell_type": "code",
   "execution_count": 19,
   "id": "710d2254",
   "metadata": {},
   "outputs": [
    {
     "data": {
      "text/html": [
       "<div>\n",
       "<style scoped>\n",
       "    .dataframe tbody tr th:only-of-type {\n",
       "        vertical-align: middle;\n",
       "    }\n",
       "\n",
       "    .dataframe tbody tr th {\n",
       "        vertical-align: top;\n",
       "    }\n",
       "\n",
       "    .dataframe thead th {\n",
       "        text-align: right;\n",
       "    }\n",
       "</style>\n",
       "<table border=\"1\" class=\"dataframe\">\n",
       "  <thead>\n",
       "    <tr style=\"text-align: right;\">\n",
       "      <th></th>\n",
       "      <th>num_rows_missing</th>\n",
       "      <th>percent_rows_missing</th>\n",
       "    </tr>\n",
       "  </thead>\n",
       "  <tbody>\n",
       "    <tr>\n",
       "      <th>bedrooms</th>\n",
       "      <td>0</td>\n",
       "      <td>0.000000</td>\n",
       "    </tr>\n",
       "    <tr>\n",
       "      <th>bathrooms</th>\n",
       "      <td>0</td>\n",
       "      <td>0.000000</td>\n",
       "    </tr>\n",
       "    <tr>\n",
       "      <th>squarefeet</th>\n",
       "      <td>82</td>\n",
       "      <td>0.156363</td>\n",
       "    </tr>\n",
       "    <tr>\n",
       "      <th>year_built</th>\n",
       "      <td>116</td>\n",
       "      <td>0.221197</td>\n",
       "    </tr>\n",
       "    <tr>\n",
       "      <th>regionidzip</th>\n",
       "      <td>26</td>\n",
       "      <td>0.049579</td>\n",
       "    </tr>\n",
       "    <tr>\n",
       "      <th>fips</th>\n",
       "      <td>0</td>\n",
       "      <td>0.000000</td>\n",
       "    </tr>\n",
       "    <tr>\n",
       "      <th>tax_value</th>\n",
       "      <td>1</td>\n",
       "      <td>0.001907</td>\n",
       "    </tr>\n",
       "    <tr>\n",
       "      <th>logerror</th>\n",
       "      <td>0</td>\n",
       "      <td>0.000000</td>\n",
       "    </tr>\n",
       "  </tbody>\n",
       "</table>\n",
       "</div>"
      ],
      "text/plain": [
       "             num_rows_missing  percent_rows_missing\n",
       "bedrooms                    0              0.000000\n",
       "bathrooms                   0              0.000000\n",
       "squarefeet                 82              0.156363\n",
       "year_built                116              0.221197\n",
       "regionidzip                26              0.049579\n",
       "fips                        0              0.000000\n",
       "tax_value                   1              0.001907\n",
       "logerror                    0              0.000000"
      ]
     },
     "execution_count": 19,
     "metadata": {},
     "output_type": "execute_result"
    }
   ],
   "source": [
    "# Check to see if nulls were removed\n",
    "wrangle.nulls_by_col(df)"
   ]
  },
  {
   "cell_type": "code",
   "execution_count": 20,
   "id": "617795e3",
   "metadata": {},
   "outputs": [
    {
     "data": {
      "text/html": [
       "<div>\n",
       "<style scoped>\n",
       "    .dataframe tbody tr th:only-of-type {\n",
       "        vertical-align: middle;\n",
       "    }\n",
       "\n",
       "    .dataframe tbody tr th {\n",
       "        vertical-align: top;\n",
       "    }\n",
       "\n",
       "    .dataframe thead th {\n",
       "        text-align: right;\n",
       "    }\n",
       "</style>\n",
       "<table border=\"1\" class=\"dataframe\">\n",
       "  <thead>\n",
       "    <tr style=\"text-align: right;\">\n",
       "      <th></th>\n",
       "      <th>num_cols_missing</th>\n",
       "      <th>percent_cols_missing</th>\n",
       "      <th>index</th>\n",
       "    </tr>\n",
       "  </thead>\n",
       "  <tbody>\n",
       "    <tr>\n",
       "      <th>0</th>\n",
       "      <td>0</td>\n",
       "      <td>0.0</td>\n",
       "      <td>52301</td>\n",
       "    </tr>\n",
       "    <tr>\n",
       "      <th>1</th>\n",
       "      <td>1</td>\n",
       "      <td>12.5</td>\n",
       "      <td>60</td>\n",
       "    </tr>\n",
       "    <tr>\n",
       "      <th>2</th>\n",
       "      <td>2</td>\n",
       "      <td>25.0</td>\n",
       "      <td>78</td>\n",
       "    </tr>\n",
       "    <tr>\n",
       "      <th>3</th>\n",
       "      <td>3</td>\n",
       "      <td>37.5</td>\n",
       "      <td>3</td>\n",
       "    </tr>\n",
       "  </tbody>\n",
       "</table>\n",
       "</div>"
      ],
      "text/plain": [
       "  num_cols_missing percent_cols_missing  index\n",
       "0                0                  0.0  52301\n",
       "1                1                 12.5     60\n",
       "2                2                 25.0     78\n",
       "3                3                 37.5      3"
      ]
     },
     "execution_count": 20,
     "metadata": {},
     "output_type": "execute_result"
    }
   ],
   "source": [
    "wrangle.nulls_by_row(df)"
   ]
  },
  {
   "cell_type": "code",
   "execution_count": 21,
   "id": "e35280d4",
   "metadata": {},
   "outputs": [
    {
     "data": {
      "image/png": "[encoded data removed]",
      "text/plain": [
       "<Figure size 1080x504 with 5 Axes>"
      ]
     },
     "metadata": {
      "needs_background": "light"
     },
     "output_type": "display_data"
    }
   ],
   "source": [
    "# Plot the distribution of some numeric variables\n",
    "fig, axs = plt.subplots(1, 5, figsize=(15, 7))\n",
    "\n",
    "for ax, col in zip(axs, df.select_dtypes('number')):\n",
    "    df[col].plot.hist(ax=ax, title=col, ec='black')"
   ]
  },
  {
   "cell_type": "code",
   "execution_count": 22,
   "id": "cfbf04fa",
   "metadata": {},
   "outputs": [
    {
     "data": {
      "text/html": [
       "<div>\n",
       "<style scoped>\n",
       "    .dataframe tbody tr th:only-of-type {\n",
       "        vertical-align: middle;\n",
       "    }\n",
       "\n",
       "    .dataframe tbody tr th {\n",
       "        vertical-align: top;\n",
       "    }\n",
       "\n",
       "    .dataframe thead th {\n",
       "        text-align: right;\n",
       "    }\n",
       "</style>\n",
       "<table border=\"1\" class=\"dataframe\">\n",
       "  <thead>\n",
       "    <tr style=\"text-align: right;\">\n",
       "      <th></th>\n",
       "      <th>bedrooms</th>\n",
       "      <th>bathrooms</th>\n",
       "      <th>squarefeet</th>\n",
       "      <th>year_built</th>\n",
       "      <th>regionidzip</th>\n",
       "      <th>fips</th>\n",
       "      <th>tax_value</th>\n",
       "      <th>logerror</th>\n",
       "      <th>sq_ft_bins</th>\n",
       "    </tr>\n",
       "  </thead>\n",
       "  <tbody>\n",
       "    <tr>\n",
       "      <th>0</th>\n",
       "      <td>4.0</td>\n",
       "      <td>3.5</td>\n",
       "      <td>3100.0</td>\n",
       "      <td>1998.0</td>\n",
       "      <td>96978.0</td>\n",
       "      <td>6059.0</td>\n",
       "      <td>1023282.0</td>\n",
       "      <td>0.025595</td>\n",
       "      <td>(3000, 4000]</td>\n",
       "    </tr>\n",
       "    <tr>\n",
       "      <th>1</th>\n",
       "      <td>2.0</td>\n",
       "      <td>1.0</td>\n",
       "      <td>1465.0</td>\n",
       "      <td>1967.0</td>\n",
       "      <td>97099.0</td>\n",
       "      <td>6111.0</td>\n",
       "      <td>464000.0</td>\n",
       "      <td>0.055619</td>\n",
       "      <td>(1000, 2000]</td>\n",
       "    </tr>\n",
       "    <tr>\n",
       "      <th>2</th>\n",
       "      <td>3.0</td>\n",
       "      <td>2.0</td>\n",
       "      <td>1243.0</td>\n",
       "      <td>1962.0</td>\n",
       "      <td>97078.0</td>\n",
       "      <td>6059.0</td>\n",
       "      <td>564778.0</td>\n",
       "      <td>0.005383</td>\n",
       "      <td>(1000, 2000]</td>\n",
       "    </tr>\n",
       "    <tr>\n",
       "      <th>3</th>\n",
       "      <td>4.0</td>\n",
       "      <td>3.0</td>\n",
       "      <td>2376.0</td>\n",
       "      <td>1970.0</td>\n",
       "      <td>96330.0</td>\n",
       "      <td>6037.0</td>\n",
       "      <td>145143.0</td>\n",
       "      <td>-0.103410</td>\n",
       "      <td>(2000, 3000]</td>\n",
       "    </tr>\n",
       "    <tr>\n",
       "      <th>4</th>\n",
       "      <td>4.0</td>\n",
       "      <td>3.0</td>\n",
       "      <td>2962.0</td>\n",
       "      <td>1950.0</td>\n",
       "      <td>96293.0</td>\n",
       "      <td>6037.0</td>\n",
       "      <td>773303.0</td>\n",
       "      <td>-0.001011</td>\n",
       "      <td>(2000, 3000]</td>\n",
       "    </tr>\n",
       "  </tbody>\n",
       "</table>\n",
       "</div>"
      ],
      "text/plain": [
       "   bedrooms  bathrooms  squarefeet  year_built  regionidzip    fips  \\\n",
       "0       4.0        3.5      3100.0      1998.0      96978.0  6059.0   \n",
       "1       2.0        1.0      1465.0      1967.0      97099.0  6111.0   \n",
       "2       3.0        2.0      1243.0      1962.0      97078.0  6059.0   \n",
       "3       4.0        3.0      2376.0      1970.0      96330.0  6037.0   \n",
       "4       4.0        3.0      2962.0      1950.0      96293.0  6037.0   \n",
       "\n",
       "   tax_value  logerror    sq_ft_bins  \n",
       "0  1023282.0  0.025595  (3000, 4000]  \n",
       "1   464000.0  0.055619  (1000, 2000]  \n",
       "2   564778.0  0.005383  (1000, 2000]  \n",
       "3   145143.0 -0.103410  (2000, 3000]  \n",
       "4   773303.0 -0.001011  (2000, 3000]  "
      ]
     },
     "execution_count": 22,
     "metadata": {},
     "output_type": "execute_result"
    }
   ],
   "source": [
    "# Binning square footage for comparison and visualization purposes\n",
    "df['sq_ft_bins'] = pd.cut(df.squarefeet, [0, 1000, 2000,3000,4000, 10000])\n",
    "df.head()"
   ]
  },
  {
   "cell_type": "code",
   "execution_count": 28,
   "id": "8df4f12e",
   "metadata": {},
   "outputs": [],
   "source": [
    "# Binning transactiondate for comparison and visualization purposes\n",
    "df['years_old'] = 2017 - df['year_built']\n",
    "#df['year_bins'] = pd.cut(df.years_old, [0,3,6,9,12])"
   ]
  },
  {
   "cell_type": "code",
   "execution_count": 31,
   "id": "b9bffb5f",
   "metadata": {},
   "outputs": [
    {
     "data": {
      "image/png": "[encoded data removed]",
      "text/plain": [
       "<Figure size 432x288 with 1 Axes>"
      ]
     },
     "metadata": {
      "needs_background": "light"
     },
     "output_type": "display_data"
    }
   ],
   "source": [
    "# A look at logerror:\n",
    "df.logerror.hist()\n",
    "plt.xlim(-4, 4);"
   ]
  },
  {
   "cell_type": "code",
   "execution_count": 32,
   "id": "01fe1864",
   "metadata": {},
   "outputs": [
    {
     "data": {
      "text/plain": [
       "(5.2629986498, -4.65542037764, 0.018294374445429716, 0.00700998395102)"
      ]
     },
     "execution_count": 32,
     "metadata": {},
     "output_type": "execute_result"
    }
   ],
   "source": [
    "df.logerror.max(), df.logerror.min(), df.logerror.mean(), df.logerror.median()"
   ]
  },
  {
   "cell_type": "code",
   "execution_count": 51,
   "id": "cbc5cf4c",
   "metadata": {},
   "outputs": [
    {
     "data": {
      "text/plain": [
       "((29367, 11), (12586, 11), (10489, 11))"
      ]
     },
     "execution_count": 51,
     "metadata": {},
     "output_type": "execute_result"
    }
   ],
   "source": [
    "# Before exploring data further, we'll need to split data into train, validate and test, \n",
    "# so that we only explore on train. The data was split with 'wrangle.wrangle_zillow()'\n",
    "wrangle.wrangle_zillow()\n",
    "train.shape, validate.shape, test.shape"
   ]
  },
  {
   "cell_type": "code",
   "execution_count": 52,
   "id": "9cdf00fd",
   "metadata": {},
   "outputs": [],
   "source": [
    "#Let's look at how variables are correlated\n",
    "corr =  train.corr(method='pearson')"
   ]
  },
  {
   "cell_type": "code",
   "execution_count": 53,
   "id": "9681e0ae",
   "metadata": {},
   "outputs": [
    {
     "data": {
      "image/png": "[encoded data removed]",
      "text/plain": [
       "<Figure size 792x648 with 2 Axes>"
      ]
     },
     "metadata": {
      "needs_background": "light"
     },
     "output_type": "display_data"
    }
   ],
   "source": [
    "# Set up the matplotlib figure\n",
    "f, ax = plt.subplots(figsize=(11, 9))\n",
    "\n",
    "# Generate a mask for the upper triangle\n",
    "mask = np.triu(np.ones_like(corr, dtype=bool))\n",
    "\n",
    "# Generate a custom diverging colormap\n",
    "cmap = sns.color_palette(\"coolwarm\", as_cmap=True)\n",
    "\n",
    "# Draw the heatmap with the mask and correct aspect ratio\n",
    "sns.heatmap(corr, mask=mask,cmap=cmap, vmax=.3, center=0,\n",
    "            square=True, linewidths=.5, cbar_kws={\"shrink\": .5});"
   ]
  },
  {
   "cell_type": "markdown",
   "id": "5dd640de",
   "metadata": {},
   "source": [
    "### My first question:\n",
    "## Does log error differ across square feet?"
   ]
  },
  {
   "cell_type": "code",
   "execution_count": 54,
   "id": "d2a49bf5",
   "metadata": {},
   "outputs": [
    {
     "data": {
      "image/png": "[encoded data removed]",
      "text/plain": [
       "<Figure size 576x432 with 1 Axes>"
      ]
     },
     "metadata": {
      "needs_background": "light"
     },
     "output_type": "display_data"
    }
   ],
   "source": [
    "# Let's look at the relationship between log error and square feet\n",
    "train.plot.scatter(\n",
    "    x=\"logerror\",\n",
    "    y=\"squarefeet\",\n",
    "    title='Is there a relationship between logerror and square feet?',\n",
    "    figsize=(8, 6),\n",
    ");"
   ]
  },
  {
   "cell_type": "code",
   "execution_count": 55,
   "id": "08db84c1",
   "metadata": {},
   "outputs": [
    {
     "data": {
      "image/png": "[encoded data removed]",
      "text/plain": [
       "<Figure size 432x288 with 1 Axes>"
      ]
     },
     "metadata": {
      "needs_background": "light"
     },
     "output_type": "display_data"
    }
   ],
   "source": [
    "# Distribution of square footage \n",
    "df.squarefeet.hist();"
   ]
  },
  {
   "cell_type": "code",
   "execution_count": 56,
   "id": "3488cb2a",
   "metadata": {},
   "outputs": [
    {
     "data": {
      "image/png": "[encoded data removed]",
      "text/plain": [
       "<Figure size 432x288 with 1 Axes>"
      ]
     },
     "metadata": {
      "needs_background": "light"
     },
     "output_type": "display_data"
    }
   ],
   "source": [
    "# Distribution of square footage by bins\n",
    "# Looks like most properties are between 1,000-2,000 square feet\n",
    "\n",
    "df.sq_ft_bins.value_counts().plot.barh(title='Distribution of sq_footage_bins');"
   ]
  },
  {
   "cell_type": "code",
   "execution_count": 57,
   "id": "3b60ab88",
   "metadata": {},
   "outputs": [
    {
     "data": {
      "image/png": "[encoded data removed]",
      "text/plain": [
       "<Figure size 432x288 with 1 Axes>"
      ]
     },
     "metadata": {
      "needs_background": "light"
     },
     "output_type": "display_data"
    }
   ],
   "source": [
    "# Let's look at how log error compares across square footage by bins\n",
    "# It doesn't look like there's much difference \n",
    "sns.violinplot(data=train, y='logerror', x='sq_ft_bins');"
   ]
  },
  {
   "cell_type": "markdown",
   "id": "9a1ef158",
   "metadata": {},
   "source": [
    "## Levene's Test: test for equal variance\n",
    "$Ho$: There is no difference in logerror variance between the square footage\n",
    "\n",
    "$Ha$: There is a difference in logerror variance between the square footage"
   ]
  },
  {
   "cell_type": "code",
   "execution_count": 58,
   "id": "a1d1dc25",
   "metadata": {},
   "outputs": [
    {
     "data": {
      "text/plain": [
       "LeveneResult(statistic=69.16068193275763, pvalue=9.464248383416298e-17)"
      ]
     },
     "execution_count": 58,
     "metadata": {},
     "output_type": "execute_result"
    }
   ],
   "source": [
    "stats.levene(\n",
    "    train[train.squarefeet <= 1000].logerror,\n",
    "    train[train.squarefeet > 1000].logerror,\n",
    ")"
   ]
  },
  {
   "cell_type": "code",
   "execution_count": 59,
   "id": "066d27bd",
   "metadata": {},
   "outputs": [
    {
     "data": {
      "text/plain": [
       "LeveneResult(statistic=0.005548032197644679, pvalue=0.9406248937963714)"
      ]
     },
     "execution_count": 59,
     "metadata": {},
     "output_type": "execute_result"
    }
   ],
   "source": [
    "stats.levene(\n",
    "    train[train.squarefeet <= 2000].logerror,\n",
    "    train[train.squarefeet > 2000].logerror,\n",
    ")"
   ]
  },
  {
   "cell_type": "code",
   "execution_count": 60,
   "id": "fc0ec50b",
   "metadata": {},
   "outputs": [
    {
     "data": {
      "text/plain": [
       "LeveneResult(statistic=55.32279695558132, pvalue=1.0507466315548768e-13)"
      ]
     },
     "execution_count": 60,
     "metadata": {},
     "output_type": "execute_result"
    }
   ],
   "source": [
    "stats.levene(\n",
    "    train[train.squarefeet <= 3000].logerror,\n",
    "    train[train.squarefeet > 3000].logerror,\n",
    ")"
   ]
  },
  {
   "cell_type": "code",
   "execution_count": 61,
   "id": "2b7e2926",
   "metadata": {},
   "outputs": [
    {
     "data": {
      "text/plain": [
       "LeveneResult(statistic=67.21838151083908, pvalue=2.5285670279986825e-16)"
      ]
     },
     "execution_count": 61,
     "metadata": {},
     "output_type": "execute_result"
    }
   ],
   "source": [
    "stats.levene(\n",
    "    train[train.squarefeet <= 4000].logerror,\n",
    "    train[train.squarefeet > 4000].logerror,\n",
    ")"
   ]
  },
  {
   "cell_type": "markdown",
   "id": "c4e278a7",
   "metadata": {},
   "source": [
    "### Create independent statistical tests to check for dependency amongst variables"
   ]
  },
  {
   "cell_type": "code",
   "execution_count": 62,
   "id": "b8a122c7",
   "metadata": {},
   "outputs": [
    {
     "data": {
      "text/plain": [
       "Ttest_indResult(statistic=-0.6641348604435102, pvalue=0.5066559199716268)"
      ]
     },
     "execution_count": 62,
     "metadata": {},
     "output_type": "execute_result"
    }
   ],
   "source": [
    "stats.ttest_ind(\n",
    "    train[train.squarefeet <= 1000].logerror,\n",
    "    train[train.squarefeet > 1000].logerror,\n",
    "    equal_var=False,\n",
    ")"
   ]
  },
  {
   "cell_type": "code",
   "execution_count": 63,
   "id": "b50e955e",
   "metadata": {},
   "outputs": [
    {
     "data": {
      "text/plain": [
       "Ttest_indResult(statistic=-4.9683137328205325, pvalue=6.811403586140173e-07)"
      ]
     },
     "execution_count": 63,
     "metadata": {},
     "output_type": "execute_result"
    }
   ],
   "source": [
    "stats.ttest_ind(\n",
    "    train[train.squarefeet <= 2000].logerror,\n",
    "    train[train.squarefeet > 2000].logerror,\n",
    "    equal_var=False,\n",
    ")"
   ]
  },
  {
   "cell_type": "code",
   "execution_count": 64,
   "id": "bc004448",
   "metadata": {},
   "outputs": [
    {
     "data": {
      "text/plain": [
       "Ttest_indResult(statistic=-5.718998280265392, pvalue=1.152443287295637e-08)"
      ]
     },
     "execution_count": 64,
     "metadata": {},
     "output_type": "execute_result"
    }
   ],
   "source": [
    "stats.ttest_ind(\n",
    "    train[train.squarefeet <= 3000].logerror,\n",
    "    train[train.squarefeet > 3000].logerror,\n",
    "    equal_var=False,\n",
    ")"
   ]
  },
  {
   "cell_type": "code",
   "execution_count": 65,
   "id": "83eba372",
   "metadata": {},
   "outputs": [
    {
     "data": {
      "text/plain": [
       "Ttest_indResult(statistic=-4.161267030237608, pvalue=3.40699053788035e-05)"
      ]
     },
     "execution_count": 65,
     "metadata": {},
     "output_type": "execute_result"
    }
   ],
   "source": [
    "stats.ttest_ind(\n",
    "    train[train.squarefeet <= 4000].logerror,\n",
    "    train[train.squarefeet > 4000].logerror,\n",
    "    equal_var=False,\n",
    ")"
   ]
  },
  {
   "cell_type": "markdown",
   "id": "00ab4ea1",
   "metadata": {},
   "source": [
    "### Conclusion:\n",
    "We reject the null hypothesis that the logerror is the same for all square footages.\n",
    "\n",
    "-----\n",
    "\n",
    "### Hypothesis :\n",
    "$Ho$ : Null Hypothesis: There is no correlation between square footage and log error .\n",
    "\n",
    "$Ha$ : Alternative Hypothesis: Square footage and log error are correlated."
   ]
  },
  {
   "cell_type": "code",
   "execution_count": 69,
   "id": "eb07b1c0",
   "metadata": {},
   "outputs": [],
   "source": [
    "train = train.dropna()\n",
    "test = test.dropna()\n",
    "validate = validate.dropna()"
   ]
  },
  {
   "cell_type": "code",
   "execution_count": 70,
   "id": "6be9b4f5",
   "metadata": {},
   "outputs": [],
   "source": [
    "x = train.squarefeet\n",
    "y = train.logerror"
   ]
  },
  {
   "cell_type": "code",
   "execution_count": 71,
   "id": "7c54006b",
   "metadata": {},
   "outputs": [
    {
     "data": {
      "text/plain": [
       "(0.08878466225519296, 0.0021818362409912083)"
      ]
     },
     "execution_count": 71,
     "metadata": {},
     "output_type": "execute_result"
    }
   ],
   "source": [
    "corr, p = stats.pearsonr(x, y)\n",
    "corr, p"
   ]
  },
  {
   "cell_type": "code",
   "execution_count": 72,
   "id": "a9ab58a9",
   "metadata": {},
   "outputs": [],
   "source": [
    "# Null hypothesis is rejected.  Square footage and log error are correlated."
   ]
  },
  {
   "cell_type": "markdown",
   "id": "b19e9c58",
   "metadata": {},
   "source": [
    "### My second question: \n",
    "## Does log error differ across county?"
   ]
  },
  {
   "cell_type": "code",
   "execution_count": 73,
   "id": "ddabd39d",
   "metadata": {},
   "outputs": [
    {
     "data": {
      "text/html": [
       "<div>\n",
       "<style scoped>\n",
       "    .dataframe tbody tr th:only-of-type {\n",
       "        vertical-align: middle;\n",
       "    }\n",
       "\n",
       "    .dataframe tbody tr th {\n",
       "        vertical-align: top;\n",
       "    }\n",
       "\n",
       "    .dataframe thead th {\n",
       "        text-align: right;\n",
       "    }\n",
       "</style>\n",
       "<table border=\"1\" class=\"dataframe\">\n",
       "  <thead>\n",
       "    <tr style=\"text-align: right;\">\n",
       "      <th></th>\n",
       "      <th>bedrooms</th>\n",
       "      <th>bathrooms</th>\n",
       "      <th>squarefeet</th>\n",
       "      <th>year_built</th>\n",
       "      <th>regionidzip</th>\n",
       "      <th>fips</th>\n",
       "      <th>tax_value</th>\n",
       "      <th>logerror</th>\n",
       "      <th>sq_ft_bins</th>\n",
       "      <th>years_old</th>\n",
       "      <th>year_bins</th>\n",
       "    </tr>\n",
       "  </thead>\n",
       "  <tbody>\n",
       "    <tr>\n",
       "      <th>0</th>\n",
       "      <td>4.0</td>\n",
       "      <td>3.5</td>\n",
       "      <td>3100.0</td>\n",
       "      <td>1998.0</td>\n",
       "      <td>96978.0</td>\n",
       "      <td>6059.0</td>\n",
       "      <td>1023282.0</td>\n",
       "      <td>0.025595</td>\n",
       "      <td>(3000, 4000]</td>\n",
       "      <td>19.0</td>\n",
       "      <td>NaN</td>\n",
       "    </tr>\n",
       "    <tr>\n",
       "      <th>1</th>\n",
       "      <td>2.0</td>\n",
       "      <td>1.0</td>\n",
       "      <td>1465.0</td>\n",
       "      <td>1967.0</td>\n",
       "      <td>97099.0</td>\n",
       "      <td>6111.0</td>\n",
       "      <td>464000.0</td>\n",
       "      <td>0.055619</td>\n",
       "      <td>(1000, 2000]</td>\n",
       "      <td>50.0</td>\n",
       "      <td>NaN</td>\n",
       "    </tr>\n",
       "    <tr>\n",
       "      <th>2</th>\n",
       "      <td>3.0</td>\n",
       "      <td>2.0</td>\n",
       "      <td>1243.0</td>\n",
       "      <td>1962.0</td>\n",
       "      <td>97078.0</td>\n",
       "      <td>6059.0</td>\n",
       "      <td>564778.0</td>\n",
       "      <td>0.005383</td>\n",
       "      <td>(1000, 2000]</td>\n",
       "      <td>55.0</td>\n",
       "      <td>NaN</td>\n",
       "    </tr>\n",
       "    <tr>\n",
       "      <th>3</th>\n",
       "      <td>4.0</td>\n",
       "      <td>3.0</td>\n",
       "      <td>2376.0</td>\n",
       "      <td>1970.0</td>\n",
       "      <td>96330.0</td>\n",
       "      <td>6037.0</td>\n",
       "      <td>145143.0</td>\n",
       "      <td>-0.103410</td>\n",
       "      <td>(2000, 3000]</td>\n",
       "      <td>47.0</td>\n",
       "      <td>NaN</td>\n",
       "    </tr>\n",
       "    <tr>\n",
       "      <th>4</th>\n",
       "      <td>4.0</td>\n",
       "      <td>3.0</td>\n",
       "      <td>2962.0</td>\n",
       "      <td>1950.0</td>\n",
       "      <td>96293.0</td>\n",
       "      <td>6037.0</td>\n",
       "      <td>773303.0</td>\n",
       "      <td>-0.001011</td>\n",
       "      <td>(2000, 3000]</td>\n",
       "      <td>67.0</td>\n",
       "      <td>NaN</td>\n",
       "    </tr>\n",
       "  </tbody>\n",
       "</table>\n",
       "</div>"
      ],
      "text/plain": [
       "   bedrooms  bathrooms  squarefeet  year_built  regionidzip    fips  \\\n",
       "0       4.0        3.5      3100.0      1998.0      96978.0  6059.0   \n",
       "1       2.0        1.0      1465.0      1967.0      97099.0  6111.0   \n",
       "2       3.0        2.0      1243.0      1962.0      97078.0  6059.0   \n",
       "3       4.0        3.0      2376.0      1970.0      96330.0  6037.0   \n",
       "4       4.0        3.0      2962.0      1950.0      96293.0  6037.0   \n",
       "\n",
       "   tax_value  logerror    sq_ft_bins  years_old year_bins  \n",
       "0  1023282.0  0.025595  (3000, 4000]       19.0       NaN  \n",
       "1   464000.0  0.055619  (1000, 2000]       50.0       NaN  \n",
       "2   564778.0  0.005383  (1000, 2000]       55.0       NaN  \n",
       "3   145143.0 -0.103410  (2000, 3000]       47.0       NaN  \n",
       "4   773303.0 -0.001011  (2000, 3000]       67.0       NaN  "
      ]
     },
     "execution_count": 73,
     "metadata": {},
     "output_type": "execute_result"
    }
   ],
   "source": [
    "df.head()"
   ]
  },
  {
   "cell_type": "code",
   "execution_count": 74,
   "id": "efd62c46",
   "metadata": {},
   "outputs": [
    {
     "data": {
      "text/plain": [
       "6037.0    33911\n",
       "6059.0    14136\n",
       "6111.0     4395\n",
       "Name: fips, dtype: int64"
      ]
     },
     "execution_count": 74,
     "metadata": {},
     "output_type": "execute_result"
    }
   ],
   "source": [
    "# Look at how counties compare in number\n",
    "### 6037 = Los Angeles County\n",
    "### 6059 = Orange County\n",
    "### 6111 = Ventura County\n",
    "df.fips.value_counts()"
   ]
  },
  {
   "cell_type": "code",
   "execution_count": null,
   "id": "adf826b7",
   "metadata": {},
   "outputs": [],
   "source": [
    "df['county'] = "
   ]
  },
  {
   "cell_type": "code",
   "execution_count": 75,
   "id": "67671325",
   "metadata": {},
   "outputs": [
    {
     "data": {
      "text/plain": [
       "<seaborn.axisgrid.FacetGrid at 0x7f843d2bf9d0>"
      ]
     },
     "execution_count": 75,
     "metadata": {},
     "output_type": "execute_result"
    },
    {
     "data": {
      "image/png": "[encoded data removed]",
      "text/plain": [
       "<Figure size 360x360 with 1 Axes>"
      ]
     },
     "metadata": {
      "needs_background": "light"
     },
     "output_type": "display_data"
    }
   ],
   "source": [
    "#Look at how log error compares amongst counties\n",
    "sns.relplot(data=train, x='logerror', y='fips')"
   ]
  },
  {
   "cell_type": "code",
   "execution_count": null,
   "id": "ea254dde",
   "metadata": {},
   "outputs": [],
   "source": []
  }
 ],
 "metadata": {
  "kernelspec": {
   "display_name": "Python 3.8.8 64-bit ('base': conda)",
   "language": "python",
   "name": "python388jvsc74a57bd0b64057e63add2b45b1ffc7eab9b09c8889b419c878e2fdf0d08f837f0fc857a7"
  },
  "language_info": {
   "codemirror_mode": {
    "name": "ipython",
    "version": 3
   },
   "file_extension": ".py",
   "mimetype": "text/x-python",
   "name": "python",
   "nbconvert_exporter": "python",
   "pygments_lexer": "ipython3",
   "version": "3.8.8"
  }
 },
 "nbformat": 4,
 "nbformat_minor": 5
}
