{
 "cells": [
  {
   "cell_type": "markdown",
   "id": "df96cafb",
   "metadata": {},
   "source": [
    "# Clustering Project Notebook\n",
    "\n",
    "![Image of Zillow Logo](https://www.roundtablerealty.com/uploads/agent-1/699119.png)\n",
    "\n",
    "\n",
    "\n",
    "\n",
    "### Zillow: What is driving the errors in the Zestimates?\n",
    "#### Background:\n",
    " Zillow, a real estate website in the United States, uses a Zestimate to estimate a property's market value.\n",
    "> What is a Zestimate?     & \n",
    "How is the Zestimate calculated? - zillow.com\n",
    "\n",
    "> For this project, we will look into finding drivers of error in the Zestimate. Using clustering methodologies, feature identification and comparison, visualizations, statistical testing, and regression models, we are to find drivers of error to predict log error.\n",
    "\n",
    "### Project Goals:\n",
    " - Using Zillow data for single unit/single family homes sold in 2017, find drivers of log error in the Zestimate.\n",
    "\n",
    " - Create 4 regression models to predict log error\n",
    "\n",
    " - Use clustering methodologies to help identify drivers of log error\n",
    "\n",
    " - Deliver findings in a final Jupyter Notebook presentation\n",
    "\n",
    "## Executive Summary:\n",
    "#### Findings Include:\n",
    "#### Takeaways:\n",
    "#### Next Steps to Explore Further:"
   ]
  },
  {
   "cell_type": "code",
   "execution_count": 1,
   "id": "79a25bc5",
   "metadata": {},
   "outputs": [],
   "source": [
    "# ignore warnings\n",
    "import warnings\n",
    "warnings.filterwarnings(\"ignore\")\n",
    "\n",
    "# Wrangling\n",
    "import pandas as pd\n",
    "import numpy as np\n",
    "from sklearn.model_selection import train_test_split\n",
    "\n",
    "# Statistical Tests\n",
    "import scipy.stats as stats\n",
    "\n",
    "# Visualizing\n",
    "import matplotlib.pyplot as plt\n",
    "from matplotlib import cm\n",
    "import seaborn as sns\n",
    "from sklearn.model_selection import learning_curve\n",
    "import env\n",
    "\n",
    "# supress scientific notation\n",
    "np.set_printoptions(suppress=True)\n",
    "\n",
    "from sklearn.cluster import KMeans\n",
    "from sklearn.preprocessing import MinMaxScaler, StandardScaler\n",
    "from sklearn.preprocessing import PolynomialFeatures\n",
    "from sklearn.feature_selection import SelectKBest, f_regression, RFE\n",
    "from sklearn.linear_model import LinearRegression, LassoLars, TweedieRegressor, LogisticRegression\n",
    "from sklearn.metrics import mean_squared_error\n",
    "from sklearn.metrics import explained_variance_score\n",
    "import wrangle"
   ]
  },
  {
   "cell_type": "code",
   "execution_count": 2,
   "id": "0a812982",
   "metadata": {},
   "outputs": [],
   "source": [
    "df = wrangle.get_zillow_data()\n",
    "df = df.dropna()"
   ]
  },
  {
   "cell_type": "code",
   "execution_count": 3,
   "id": "a2b0c0dc",
   "metadata": {},
   "outputs": [
    {
     "data": {
      "text/html": [
       "<div>\n",
       "<style scoped>\n",
       "    .dataframe tbody tr th:only-of-type {\n",
       "        vertical-align: middle;\n",
       "    }\n",
       "\n",
       "    .dataframe tbody tr th {\n",
       "        vertical-align: top;\n",
       "    }\n",
       "\n",
       "    .dataframe thead th {\n",
       "        text-align: right;\n",
       "    }\n",
       "</style>\n",
       "<table border=\"1\" class=\"dataframe\">\n",
       "  <thead>\n",
       "    <tr style=\"text-align: right;\">\n",
       "      <th></th>\n",
       "      <th>bedrooms</th>\n",
       "      <th>bathrooms</th>\n",
       "      <th>squarefeet</th>\n",
       "      <th>year_built</th>\n",
       "      <th>regionidzip</th>\n",
       "      <th>fips</th>\n",
       "      <th>tax_value</th>\n",
       "      <th>logerror</th>\n",
       "    </tr>\n",
       "  </thead>\n",
       "  <tbody>\n",
       "    <tr>\n",
       "      <th>0</th>\n",
       "      <td>4.0</td>\n",
       "      <td>3.5</td>\n",
       "      <td>3100.0</td>\n",
       "      <td>1998.0</td>\n",
       "      <td>96978.0</td>\n",
       "      <td>6059.0</td>\n",
       "      <td>1023282.0</td>\n",
       "      <td>0.025595</td>\n",
       "    </tr>\n",
       "    <tr>\n",
       "      <th>1</th>\n",
       "      <td>2.0</td>\n",
       "      <td>1.0</td>\n",
       "      <td>1465.0</td>\n",
       "      <td>1967.0</td>\n",
       "      <td>97099.0</td>\n",
       "      <td>6111.0</td>\n",
       "      <td>464000.0</td>\n",
       "      <td>0.055619</td>\n",
       "    </tr>\n",
       "    <tr>\n",
       "      <th>2</th>\n",
       "      <td>3.0</td>\n",
       "      <td>2.0</td>\n",
       "      <td>1243.0</td>\n",
       "      <td>1962.0</td>\n",
       "      <td>97078.0</td>\n",
       "      <td>6059.0</td>\n",
       "      <td>564778.0</td>\n",
       "      <td>0.005383</td>\n",
       "    </tr>\n",
       "    <tr>\n",
       "      <th>3</th>\n",
       "      <td>4.0</td>\n",
       "      <td>3.0</td>\n",
       "      <td>2376.0</td>\n",
       "      <td>1970.0</td>\n",
       "      <td>96330.0</td>\n",
       "      <td>6037.0</td>\n",
       "      <td>145143.0</td>\n",
       "      <td>-0.103410</td>\n",
       "    </tr>\n",
       "    <tr>\n",
       "      <th>4</th>\n",
       "      <td>4.0</td>\n",
       "      <td>3.0</td>\n",
       "      <td>2962.0</td>\n",
       "      <td>1950.0</td>\n",
       "      <td>96293.0</td>\n",
       "      <td>6037.0</td>\n",
       "      <td>773303.0</td>\n",
       "      <td>-0.001011</td>\n",
       "    </tr>\n",
       "  </tbody>\n",
       "</table>\n",
       "</div>"
      ],
      "text/plain": [
       "   bedrooms  bathrooms  squarefeet  year_built  regionidzip    fips  \\\n",
       "0       4.0        3.5      3100.0      1998.0      96978.0  6059.0   \n",
       "1       2.0        1.0      1465.0      1967.0      97099.0  6111.0   \n",
       "2       3.0        2.0      1243.0      1962.0      97078.0  6059.0   \n",
       "3       4.0        3.0      2376.0      1970.0      96330.0  6037.0   \n",
       "4       4.0        3.0      2962.0      1950.0      96293.0  6037.0   \n",
       "\n",
       "   tax_value  logerror  \n",
       "0  1023282.0  0.025595  \n",
       "1   464000.0  0.055619  \n",
       "2   564778.0  0.005383  \n",
       "3   145143.0 -0.103410  \n",
       "4   773303.0 -0.001011  "
      ]
     },
     "execution_count": 3,
     "metadata": {},
     "output_type": "execute_result"
    }
   ],
   "source": [
    "df.head()"
   ]
  },
  {
   "cell_type": "markdown",
   "id": "542e42cc",
   "metadata": {},
   "source": [
    "## Data Acquisition / Prep / Wrangling Takeaways:\n",
    " - Created and used functions in wrangle.py to acquire and prep data\n",
    "\n",
    " - Used a SQL query to join 7 tables\n",
    "\n",
    " - Selected only single family properties filtered by:\n",
    "   - Properties with propertylandusetypeid = 261\n",
    "   - Only retrieving latest transaction date, eliminating duplicates sold more than once in same year\n",
    "   - Only selecting properties with at least 1 bath & bed and 350 sqft area\n",
    "   - Only properties with a latitude and longitude that is not null\n",
    "   - Dropping columns that are less than 70% populated, mostly empty columns\n",
    "   - Adding a 'county' column based on FIPS unique county identifier feature\n",
    "   - Dropping columns that are not useful features or redundant\n",
    "   - Filling null values in unitcnt column with 1 since all are single unit properties\n",
    "   - Replacing nulls with median values for select columns:\n",
    "     - 7313 for lotsizesquarefeet\n",
    "     - 6.0 for buildingqualitytypeid -Since this is Southern CA, filling null with 'None' for heatingorsystemdesc because most likely don't have one -Rename columns for easier readability -Removed outliers based on Inter Quartile Rule for properties with outliers in square footage, price, bedrooms, and bathrooms"
   ]
  },
  {
   "cell_type": "markdown",
   "id": "c9efb66b",
   "metadata": {},
   "source": [
    "____\n",
    "\n",
    "# Explore"
   ]
  },
  {
   "cell_type": "code",
   "execution_count": 4,
   "id": "761729f3",
   "metadata": {},
   "outputs": [
    {
     "data": {
      "text/plain": [
       "(52301, 8)"
      ]
     },
     "execution_count": 4,
     "metadata": {},
     "output_type": "execute_result"
    }
   ],
   "source": [
    "df.shape"
   ]
  },
  {
   "cell_type": "code",
   "execution_count": 5,
   "id": "6df74d19",
   "metadata": {},
   "outputs": [
    {
     "data": {
      "text/html": [
       "<div>\n",
       "<style scoped>\n",
       "    .dataframe tbody tr th:only-of-type {\n",
       "        vertical-align: middle;\n",
       "    }\n",
       "\n",
       "    .dataframe tbody tr th {\n",
       "        vertical-align: top;\n",
       "    }\n",
       "\n",
       "    .dataframe thead th {\n",
       "        text-align: right;\n",
       "    }\n",
       "</style>\n",
       "<table border=\"1\" class=\"dataframe\">\n",
       "  <thead>\n",
       "    <tr style=\"text-align: right;\">\n",
       "      <th></th>\n",
       "      <th>bedrooms</th>\n",
       "      <th>bathrooms</th>\n",
       "      <th>squarefeet</th>\n",
       "      <th>year_built</th>\n",
       "      <th>regionidzip</th>\n",
       "      <th>fips</th>\n",
       "      <th>tax_value</th>\n",
       "      <th>logerror</th>\n",
       "    </tr>\n",
       "  </thead>\n",
       "  <tbody>\n",
       "    <tr>\n",
       "      <th>0</th>\n",
       "      <td>4.0</td>\n",
       "      <td>3.5</td>\n",
       "      <td>3100.0</td>\n",
       "      <td>1998.0</td>\n",
       "      <td>96978.0</td>\n",
       "      <td>6059.0</td>\n",
       "      <td>1023282.0</td>\n",
       "      <td>0.025595</td>\n",
       "    </tr>\n",
       "    <tr>\n",
       "      <th>1</th>\n",
       "      <td>2.0</td>\n",
       "      <td>1.0</td>\n",
       "      <td>1465.0</td>\n",
       "      <td>1967.0</td>\n",
       "      <td>97099.0</td>\n",
       "      <td>6111.0</td>\n",
       "      <td>464000.0</td>\n",
       "      <td>0.055619</td>\n",
       "    </tr>\n",
       "    <tr>\n",
       "      <th>2</th>\n",
       "      <td>3.0</td>\n",
       "      <td>2.0</td>\n",
       "      <td>1243.0</td>\n",
       "      <td>1962.0</td>\n",
       "      <td>97078.0</td>\n",
       "      <td>6059.0</td>\n",
       "      <td>564778.0</td>\n",
       "      <td>0.005383</td>\n",
       "    </tr>\n",
       "    <tr>\n",
       "      <th>3</th>\n",
       "      <td>4.0</td>\n",
       "      <td>3.0</td>\n",
       "      <td>2376.0</td>\n",
       "      <td>1970.0</td>\n",
       "      <td>96330.0</td>\n",
       "      <td>6037.0</td>\n",
       "      <td>145143.0</td>\n",
       "      <td>-0.103410</td>\n",
       "    </tr>\n",
       "    <tr>\n",
       "      <th>4</th>\n",
       "      <td>4.0</td>\n",
       "      <td>3.0</td>\n",
       "      <td>2962.0</td>\n",
       "      <td>1950.0</td>\n",
       "      <td>96293.0</td>\n",
       "      <td>6037.0</td>\n",
       "      <td>773303.0</td>\n",
       "      <td>-0.001011</td>\n",
       "    </tr>\n",
       "  </tbody>\n",
       "</table>\n",
       "</div>"
      ],
      "text/plain": [
       "   bedrooms  bathrooms  squarefeet  year_built  regionidzip    fips  \\\n",
       "0       4.0        3.5      3100.0      1998.0      96978.0  6059.0   \n",
       "1       2.0        1.0      1465.0      1967.0      97099.0  6111.0   \n",
       "2       3.0        2.0      1243.0      1962.0      97078.0  6059.0   \n",
       "3       4.0        3.0      2376.0      1970.0      96330.0  6037.0   \n",
       "4       4.0        3.0      2962.0      1950.0      96293.0  6037.0   \n",
       "\n",
       "   tax_value  logerror  \n",
       "0  1023282.0  0.025595  \n",
       "1   464000.0  0.055619  \n",
       "2   564778.0  0.005383  \n",
       "3   145143.0 -0.103410  \n",
       "4   773303.0 -0.001011  "
      ]
     },
     "execution_count": 5,
     "metadata": {},
     "output_type": "execute_result"
    }
   ],
   "source": [
    "df.head()"
   ]
  },
  {
   "cell_type": "code",
   "execution_count": 6,
   "id": "710d2254",
   "metadata": {},
   "outputs": [
    {
     "data": {
      "text/html": [
       "<div>\n",
       "<style scoped>\n",
       "    .dataframe tbody tr th:only-of-type {\n",
       "        vertical-align: middle;\n",
       "    }\n",
       "\n",
       "    .dataframe tbody tr th {\n",
       "        vertical-align: top;\n",
       "    }\n",
       "\n",
       "    .dataframe thead th {\n",
       "        text-align: right;\n",
       "    }\n",
       "</style>\n",
       "<table border=\"1\" class=\"dataframe\">\n",
       "  <thead>\n",
       "    <tr style=\"text-align: right;\">\n",
       "      <th></th>\n",
       "      <th>num_rows_missing</th>\n",
       "      <th>percent_rows_missing</th>\n",
       "    </tr>\n",
       "  </thead>\n",
       "  <tbody>\n",
       "    <tr>\n",
       "      <th>bedrooms</th>\n",
       "      <td>0</td>\n",
       "      <td>0.0</td>\n",
       "    </tr>\n",
       "    <tr>\n",
       "      <th>bathrooms</th>\n",
       "      <td>0</td>\n",
       "      <td>0.0</td>\n",
       "    </tr>\n",
       "    <tr>\n",
       "      <th>squarefeet</th>\n",
       "      <td>0</td>\n",
       "      <td>0.0</td>\n",
       "    </tr>\n",
       "    <tr>\n",
       "      <th>year_built</th>\n",
       "      <td>0</td>\n",
       "      <td>0.0</td>\n",
       "    </tr>\n",
       "    <tr>\n",
       "      <th>regionidzip</th>\n",
       "      <td>0</td>\n",
       "      <td>0.0</td>\n",
       "    </tr>\n",
       "    <tr>\n",
       "      <th>fips</th>\n",
       "      <td>0</td>\n",
       "      <td>0.0</td>\n",
       "    </tr>\n",
       "    <tr>\n",
       "      <th>tax_value</th>\n",
       "      <td>0</td>\n",
       "      <td>0.0</td>\n",
       "    </tr>\n",
       "    <tr>\n",
       "      <th>logerror</th>\n",
       "      <td>0</td>\n",
       "      <td>0.0</td>\n",
       "    </tr>\n",
       "  </tbody>\n",
       "</table>\n",
       "</div>"
      ],
      "text/plain": [
       "             num_rows_missing  percent_rows_missing\n",
       "bedrooms                    0                   0.0\n",
       "bathrooms                   0                   0.0\n",
       "squarefeet                  0                   0.0\n",
       "year_built                  0                   0.0\n",
       "regionidzip                 0                   0.0\n",
       "fips                        0                   0.0\n",
       "tax_value                   0                   0.0\n",
       "logerror                    0                   0.0"
      ]
     },
     "execution_count": 6,
     "metadata": {},
     "output_type": "execute_result"
    }
   ],
   "source": [
    "# Check to see if nulls were removed\n",
    "wrangle.nulls_by_col(df)"
   ]
  },
  {
   "cell_type": "code",
   "execution_count": 7,
   "id": "617795e3",
   "metadata": {},
   "outputs": [
    {
     "data": {
      "text/html": [
       "<div>\n",
       "<style scoped>\n",
       "    .dataframe tbody tr th:only-of-type {\n",
       "        vertical-align: middle;\n",
       "    }\n",
       "\n",
       "    .dataframe tbody tr th {\n",
       "        vertical-align: top;\n",
       "    }\n",
       "\n",
       "    .dataframe thead th {\n",
       "        text-align: right;\n",
       "    }\n",
       "</style>\n",
       "<table border=\"1\" class=\"dataframe\">\n",
       "  <thead>\n",
       "    <tr style=\"text-align: right;\">\n",
       "      <th></th>\n",
       "      <th>num_cols_missing</th>\n",
       "      <th>percent_cols_missing</th>\n",
       "      <th>index</th>\n",
       "    </tr>\n",
       "  </thead>\n",
       "  <tbody>\n",
       "    <tr>\n",
       "      <th>0</th>\n",
       "      <td>0</td>\n",
       "      <td>0.0</td>\n",
       "      <td>52301</td>\n",
       "    </tr>\n",
       "  </tbody>\n",
       "</table>\n",
       "</div>"
      ],
      "text/plain": [
       "  num_cols_missing percent_cols_missing  index\n",
       "0                0                  0.0  52301"
      ]
     },
     "execution_count": 7,
     "metadata": {},
     "output_type": "execute_result"
    }
   ],
   "source": [
    "wrangle.nulls_by_row(df)"
   ]
  },
  {
   "cell_type": "code",
   "execution_count": 8,
   "id": "e35280d4",
   "metadata": {},
   "outputs": [
    {
     "data": {
      "image/png": "[encoded data removed]",
      "text/plain": [
       "<Figure size 1080x504 with 5 Axes>"
      ]
     },
     "metadata": {
      "needs_background": "light"
     },
     "output_type": "display_data"
    }
   ],
   "source": [
    "# Plot the distribution of some numeric variables\n",
    "fig, axs = plt.subplots(1, 5, figsize=(15, 7))\n",
    "\n",
    "for ax, col in zip(axs, df.select_dtypes('number')):\n",
    "    df[col].plot.hist(ax=ax, title=col, ec='black')"
   ]
  },
  {
   "cell_type": "code",
   "execution_count": 9,
   "id": "c2195e04",
   "metadata": {},
   "outputs": [
    {
     "data": {
      "text/plain": [
       "((25529, 9), (10942, 9), (9118, 9))"
      ]
     },
     "execution_count": 9,
     "metadata": {},
     "output_type": "execute_result"
    }
   ],
   "source": [
    "# Before exploring data further, we'll need to split data into train, validate and test, \n",
    "# so that we only explore on train. The data was split with 'wrangle.wrangle_zillow()' from wrangle.py module\n",
    "train, validate, test = wrangle.wrangle_zillow()\n",
    "train, validate, test = wrangle.Min_Max_Scaler(train, validate, test)\n",
    "train.shape, validate.shape, test.shape"
   ]
  },
  {
   "cell_type": "code",
   "execution_count": 10,
   "id": "cfbf04fa",
   "metadata": {},
   "outputs": [
    {
     "data": {
      "text/html": [
       "<div>\n",
       "<style scoped>\n",
       "    .dataframe tbody tr th:only-of-type {\n",
       "        vertical-align: middle;\n",
       "    }\n",
       "\n",
       "    .dataframe tbody tr th {\n",
       "        vertical-align: top;\n",
       "    }\n",
       "\n",
       "    .dataframe thead th {\n",
       "        text-align: right;\n",
       "    }\n",
       "</style>\n",
       "<table border=\"1\" class=\"dataframe\">\n",
       "  <thead>\n",
       "    <tr style=\"text-align: right;\">\n",
       "      <th></th>\n",
       "      <th>bedrooms</th>\n",
       "      <th>bathrooms</th>\n",
       "      <th>squarefeet</th>\n",
       "      <th>year_built</th>\n",
       "      <th>regionidzip</th>\n",
       "      <th>fips</th>\n",
       "      <th>tax_value</th>\n",
       "      <th>logerror</th>\n",
       "      <th>years_old</th>\n",
       "      <th>sq_ft_bins</th>\n",
       "    </tr>\n",
       "  </thead>\n",
       "  <tbody>\n",
       "    <tr>\n",
       "      <th>36317</th>\n",
       "      <td>3</td>\n",
       "      <td>2.0</td>\n",
       "      <td>0.322392</td>\n",
       "      <td>1959</td>\n",
       "      <td>97104</td>\n",
       "      <td>6111</td>\n",
       "      <td>0.046060</td>\n",
       "      <td>0.034616</td>\n",
       "      <td>58</td>\n",
       "      <td>(0, 1000]</td>\n",
       "    </tr>\n",
       "    <tr>\n",
       "      <th>26167</th>\n",
       "      <td>3</td>\n",
       "      <td>2.0</td>\n",
       "      <td>0.328839</td>\n",
       "      <td>1953</td>\n",
       "      <td>96201</td>\n",
       "      <td>6037</td>\n",
       "      <td>0.049221</td>\n",
       "      <td>0.168734</td>\n",
       "      <td>64</td>\n",
       "      <td>(0, 1000]</td>\n",
       "    </tr>\n",
       "    <tr>\n",
       "      <th>635</th>\n",
       "      <td>4</td>\n",
       "      <td>2.5</td>\n",
       "      <td>0.596131</td>\n",
       "      <td>1986</td>\n",
       "      <td>97097</td>\n",
       "      <td>6111</td>\n",
       "      <td>0.607301</td>\n",
       "      <td>0.046620</td>\n",
       "      <td>31</td>\n",
       "      <td>(0, 1000]</td>\n",
       "    </tr>\n",
       "    <tr>\n",
       "      <th>49331</th>\n",
       "      <td>4</td>\n",
       "      <td>3.0</td>\n",
       "      <td>0.588218</td>\n",
       "      <td>1964</td>\n",
       "      <td>97118</td>\n",
       "      <td>6111</td>\n",
       "      <td>0.321354</td>\n",
       "      <td>-0.001710</td>\n",
       "      <td>53</td>\n",
       "      <td>(0, 1000]</td>\n",
       "    </tr>\n",
       "    <tr>\n",
       "      <th>10086</th>\n",
       "      <td>4</td>\n",
       "      <td>2.0</td>\n",
       "      <td>0.351700</td>\n",
       "      <td>1954</td>\n",
       "      <td>96370</td>\n",
       "      <td>6037</td>\n",
       "      <td>0.414059</td>\n",
       "      <td>-0.044853</td>\n",
       "      <td>63</td>\n",
       "      <td>(0, 1000]</td>\n",
       "    </tr>\n",
       "  </tbody>\n",
       "</table>\n",
       "</div>"
      ],
      "text/plain": [
       "       bedrooms  bathrooms  squarefeet  year_built  regionidzip  fips  \\\n",
       "36317         3        2.0    0.322392        1959        97104  6111   \n",
       "26167         3        2.0    0.328839        1953        96201  6037   \n",
       "635           4        2.5    0.596131        1986        97097  6111   \n",
       "49331         4        3.0    0.588218        1964        97118  6111   \n",
       "10086         4        2.0    0.351700        1954        96370  6037   \n",
       "\n",
       "       tax_value  logerror  years_old sq_ft_bins  \n",
       "36317   0.046060  0.034616         58  (0, 1000]  \n",
       "26167   0.049221  0.168734         64  (0, 1000]  \n",
       "635     0.607301  0.046620         31  (0, 1000]  \n",
       "49331   0.321354 -0.001710         53  (0, 1000]  \n",
       "10086   0.414059 -0.044853         63  (0, 1000]  "
      ]
     },
     "execution_count": 10,
     "metadata": {},
     "output_type": "execute_result"
    }
   ],
   "source": [
    "# Binning square footage for comparison and visualization purposes\n",
    "train['sq_ft_bins'] = pd.cut(train.squarefeet, [0, 1000, 2000,3000,4000, 10000])\n",
    "train.head()"
   ]
  },
  {
   "cell_type": "code",
   "execution_count": 11,
   "id": "8df4f12e",
   "metadata": {},
   "outputs": [],
   "source": [
    "# Binning transactiondate for comparison and visualization purposes\n",
    "train['years_old'] = 2017 - df['year_built']"
   ]
  },
  {
   "cell_type": "code",
   "execution_count": 12,
   "id": "b9bffb5f",
   "metadata": {},
   "outputs": [
    {
     "data": {
      "image/png": "[encoded data removed]",
      "text/plain": [
       "<Figure size 432x288 with 1 Axes>"
      ]
     },
     "metadata": {
      "needs_background": "light"
     },
     "output_type": "display_data"
    }
   ],
   "source": [
    "# A look at logerror:\n",
    "df.logerror.hist()\n",
    "plt.xlim(-4, 4);"
   ]
  },
  {
   "cell_type": "code",
   "execution_count": 13,
   "id": "01fe1864",
   "metadata": {},
   "outputs": [
    {
     "data": {
      "text/plain": [
       "(5.2629986498, -4.65542037764, 0.01831105313921998, 0.00702230920515)"
      ]
     },
     "execution_count": 13,
     "metadata": {},
     "output_type": "execute_result"
    }
   ],
   "source": [
    "df.logerror.max(), df.logerror.min(), df.logerror.mean(), df.logerror.median()"
   ]
  },
  {
   "cell_type": "code",
   "execution_count": 14,
   "id": "9cdf00fd",
   "metadata": {},
   "outputs": [],
   "source": [
    "#Let's look at how variables are correlated\n",
    "corr =  train.corr(method='pearson')"
   ]
  },
  {
   "cell_type": "code",
   "execution_count": 15,
   "id": "9681e0ae",
   "metadata": {},
   "outputs": [
    {
     "data": {
      "image/png": "[encoded data removed]",
      "text/plain": [
       "<Figure size 792x648 with 2 Axes>"
      ]
     },
     "metadata": {
      "needs_background": "light"
     },
     "output_type": "display_data"
    }
   ],
   "source": [
    "# Set up the matplotlib figure\n",
    "f, ax = plt.subplots(figsize=(11, 9))\n",
    "\n",
    "# Generate a mask for the upper triangle\n",
    "mask = np.triu(np.ones_like(corr, dtype=bool))\n",
    "\n",
    "# Generate a custom diverging colormap\n",
    "cmap = sns.color_palette(\"coolwarm\", as_cmap=True)\n",
    "\n",
    "# Draw the heatmap with the mask and correct aspect ratio\n",
    "sns.heatmap(corr, mask=mask,cmap=cmap, vmax=.3, center=0,\n",
    "            square=True, linewidths=.5, cbar_kws={\"shrink\": .5});"
   ]
  },
  {
   "cell_type": "markdown",
   "id": "5dd640de",
   "metadata": {},
   "source": [
    "### My first question:\n",
    "## Does log error differ across square feet?"
   ]
  },
  {
   "cell_type": "code",
   "execution_count": 16,
   "id": "d2a49bf5",
   "metadata": {},
   "outputs": [
    {
     "data": {
      "image/png": "[encoded data removed]",
      "text/plain": [
       "<Figure size 576x432 with 1 Axes>"
      ]
     },
     "metadata": {
      "needs_background": "light"
     },
     "output_type": "display_data"
    }
   ],
   "source": [
    "# Let's look at the relationship between log error and square feet\n",
    "train.plot.scatter(\n",
    "    x=\"logerror\",\n",
    "    y=\"squarefeet\",\n",
    "    title='Is there a relationship between logerror and square feet?',\n",
    "    figsize=(8, 6),\n",
    ");"
   ]
  },
  {
   "cell_type": "code",
   "execution_count": 17,
   "id": "08db84c1",
   "metadata": {},
   "outputs": [
    {
     "data": {
      "image/png": "[encoded data removed]",
      "text/plain": [
       "<Figure size 432x288 with 1 Axes>"
      ]
     },
     "metadata": {
      "needs_background": "light"
     },
     "output_type": "display_data"
    }
   ],
   "source": [
    "# Distribution of square footage \n",
    "df.squarefeet.hist();"
   ]
  },
  {
   "cell_type": "code",
   "execution_count": 18,
   "id": "3488cb2a",
   "metadata": {},
   "outputs": [
    {
     "data": {
      "image/png": "[encoded data removed]",
      "text/plain": [
       "<Figure size 432x288 with 1 Axes>"
      ]
     },
     "metadata": {
      "needs_background": "light"
     },
     "output_type": "display_data"
    }
   ],
   "source": [
    "# Distribution of square footage by bins\n",
    "# Looks like most properties are between 1,000-2,000 square feet\n",
    "\n",
    "train.sq_ft_bins.value_counts().plot.barh(title='Distribution of sq_footage_bins');"
   ]
  },
  {
   "cell_type": "code",
   "execution_count": 19,
   "id": "3b60ab88",
   "metadata": {},
   "outputs": [
    {
     "data": {
      "image/png": "[encoded data removed]",
      "text/plain": [
       "<Figure size 432x288 with 1 Axes>"
      ]
     },
     "metadata": {
      "needs_background": "light"
     },
     "output_type": "display_data"
    }
   ],
   "source": [
    "# Let's look at how log error compares across square footage by bins\n",
    "# It doesn't look like there's much difference \n",
    "sns.violinplot(data=train, y='logerror', x='sq_ft_bins');"
   ]
  },
  {
   "cell_type": "markdown",
   "id": "9a1ef158",
   "metadata": {},
   "source": [
    "## Levene's Test: test for equal variance\n",
    "$Ho$: There is no difference in logerror variance between the square footage\n",
    "\n",
    "$Ha$: There is a difference in logerror variance between the square footage"
   ]
  },
  {
   "cell_type": "code",
   "execution_count": 20,
   "id": "a1d1dc25",
   "metadata": {},
   "outputs": [
    {
     "data": {
      "text/plain": [
       "LeveneResult(statistic=nan, pvalue=nan)"
      ]
     },
     "execution_count": 20,
     "metadata": {},
     "output_type": "execute_result"
    }
   ],
   "source": [
    "stats.levene(\n",
    "    train[train.squarefeet <= 1000].logerror,\n",
    "    train[train.squarefeet > 1000].logerror,\n",
    ")"
   ]
  },
  {
   "cell_type": "code",
   "execution_count": 21,
   "id": "066d27bd",
   "metadata": {},
   "outputs": [
    {
     "data": {
      "text/plain": [
       "LeveneResult(statistic=nan, pvalue=nan)"
      ]
     },
     "execution_count": 21,
     "metadata": {},
     "output_type": "execute_result"
    }
   ],
   "source": [
    "stats.levene(\n",
    "    train[train.squarefeet <= 2000].logerror,\n",
    "    train[train.squarefeet > 2000].logerror,\n",
    ")"
   ]
  },
  {
   "cell_type": "code",
   "execution_count": 22,
   "id": "352dc50e",
   "metadata": {},
   "outputs": [
    {
     "data": {
      "text/plain": [
       "LeveneResult(statistic=nan, pvalue=nan)"
      ]
     },
     "execution_count": 22,
     "metadata": {},
     "output_type": "execute_result"
    }
   ],
   "source": [
    "stats.levene(\n",
    "    train[train.squarefeet <= 3000].logerror,\n",
    "    train[train.squarefeet > 3000].logerror,\n",
    ")"
   ]
  },
  {
   "cell_type": "code",
   "execution_count": 23,
   "id": "f7e70842",
   "metadata": {},
   "outputs": [
    {
     "data": {
      "text/plain": [
       "LeveneResult(statistic=nan, pvalue=nan)"
      ]
     },
     "execution_count": 23,
     "metadata": {},
     "output_type": "execute_result"
    }
   ],
   "source": [
    "stats.levene(\n",
    "    train[train.squarefeet <= 4000].logerror,\n",
    "    train[train.squarefeet > 4000].logerror,\n",
    ")"
   ]
  },
  {
   "cell_type": "markdown",
   "id": "14549165",
   "metadata": {},
   "source": [
    "### Create independent statistical tests to check for dependency amongst variables"
   ]
  },
  {
   "cell_type": "code",
   "execution_count": 24,
   "id": "c8fae13a",
   "metadata": {},
   "outputs": [
    {
     "data": {
      "text/plain": [
       "Ttest_indResult(statistic=nan, pvalue=nan)"
      ]
     },
     "execution_count": 24,
     "metadata": {},
     "output_type": "execute_result"
    }
   ],
   "source": [
    "stats.ttest_ind(\n",
    "    train[train.squarefeet <= 1000].logerror,\n",
    "    train[train.squarefeet > 1000].logerror,\n",
    "    equal_var=False,\n",
    ")"
   ]
  },
  {
   "cell_type": "code",
   "execution_count": 25,
   "id": "b949b191",
   "metadata": {},
   "outputs": [
    {
     "data": {
      "text/plain": [
       "Ttest_indResult(statistic=nan, pvalue=nan)"
      ]
     },
     "execution_count": 25,
     "metadata": {},
     "output_type": "execute_result"
    }
   ],
   "source": [
    "stats.ttest_ind(\n",
    "    train[train.squarefeet <= 2000].logerror,\n",
    "    train[train.squarefeet > 2000].logerror,\n",
    "    equal_var=False,\n",
    ")"
   ]
  },
  {
   "cell_type": "code",
   "execution_count": 26,
   "id": "d8be9b34",
   "metadata": {},
   "outputs": [
    {
     "data": {
      "text/plain": [
       "Ttest_indResult(statistic=nan, pvalue=nan)"
      ]
     },
     "execution_count": 26,
     "metadata": {},
     "output_type": "execute_result"
    }
   ],
   "source": [
    "stats.ttest_ind(\n",
    "    train[train.squarefeet <= 3000].logerror,\n",
    "    train[train.squarefeet > 3000].logerror,\n",
    "    equal_var=False,\n",
    ")"
   ]
  },
  {
   "cell_type": "code",
   "execution_count": 27,
   "id": "a2a9512a",
   "metadata": {},
   "outputs": [
    {
     "data": {
      "text/plain": [
       "Ttest_indResult(statistic=nan, pvalue=nan)"
      ]
     },
     "execution_count": 27,
     "metadata": {},
     "output_type": "execute_result"
    }
   ],
   "source": [
    "stats.ttest_ind(\n",
    "    train[train.squarefeet <= 4000].logerror,\n",
    "    train[train.squarefeet > 4000].logerror,\n",
    "    equal_var=False,\n",
    ")"
   ]
  },
  {
   "cell_type": "markdown",
   "id": "3fb8b87b",
   "metadata": {},
   "source": [
    "### Conclusion:\n",
    "We reject the null hypothesis that the logerror is the same for all square footages.\n",
    "\n",
    "-----\n",
    "\n",
    "### Hypothesis :\n",
    "$Ho$ : Null Hypothesis: There is no correlation between square footage and log error\n",
    "\n",
    "$Ha$ : Alternative Hypothesis: Square footage and log error are correlated"
   ]
  },
  {
   "cell_type": "code",
   "execution_count": 28,
   "id": "2fc80be3",
   "metadata": {},
   "outputs": [],
   "source": [
    "train = train.dropna()\n",
    "test = test.dropna()\n",
    "validate = validate.dropna()"
   ]
  },
  {
   "cell_type": "code",
   "execution_count": 29,
   "id": "bf4af165",
   "metadata": {},
   "outputs": [],
   "source": [
    "x = train.squarefeet\n",
    "y = train.logerror"
   ]
  },
  {
   "cell_type": "code",
   "execution_count": 30,
   "id": "8af1f282",
   "metadata": {},
   "outputs": [
    {
     "data": {
      "text/plain": [
       "(0.028388852563970633, 5.719100107439818e-06)"
      ]
     },
     "execution_count": 30,
     "metadata": {},
     "output_type": "execute_result"
    }
   ],
   "source": [
    "corr, p = stats.pearsonr(x, y)\n",
    "corr, p"
   ]
  },
  {
   "cell_type": "code",
   "execution_count": 31,
   "id": "90236cb5",
   "metadata": {},
   "outputs": [],
   "source": [
    "# Null hypothesis is rejected.  Square footage and log error are correlated."
   ]
  },
  {
   "cell_type": "markdown",
   "id": "6e19f169",
   "metadata": {},
   "source": [
    "### My second question: \n",
    "## Does log error differ across county?"
   ]
  },
  {
   "cell_type": "code",
   "execution_count": 32,
   "id": "692cd388",
   "metadata": {},
   "outputs": [
    {
     "data": {
      "text/html": [
       "<div>\n",
       "<style scoped>\n",
       "    .dataframe tbody tr th:only-of-type {\n",
       "        vertical-align: middle;\n",
       "    }\n",
       "\n",
       "    .dataframe tbody tr th {\n",
       "        vertical-align: top;\n",
       "    }\n",
       "\n",
       "    .dataframe thead th {\n",
       "        text-align: right;\n",
       "    }\n",
       "</style>\n",
       "<table border=\"1\" class=\"dataframe\">\n",
       "  <thead>\n",
       "    <tr style=\"text-align: right;\">\n",
       "      <th></th>\n",
       "      <th>bedrooms</th>\n",
       "      <th>bathrooms</th>\n",
       "      <th>squarefeet</th>\n",
       "      <th>year_built</th>\n",
       "      <th>regionidzip</th>\n",
       "      <th>fips</th>\n",
       "      <th>tax_value</th>\n",
       "      <th>logerror</th>\n",
       "    </tr>\n",
       "  </thead>\n",
       "  <tbody>\n",
       "    <tr>\n",
       "      <th>0</th>\n",
       "      <td>4.0</td>\n",
       "      <td>3.5</td>\n",
       "      <td>3100.0</td>\n",
       "      <td>1998.0</td>\n",
       "      <td>96978.0</td>\n",
       "      <td>6059.0</td>\n",
       "      <td>1023282.0</td>\n",
       "      <td>0.025595</td>\n",
       "    </tr>\n",
       "    <tr>\n",
       "      <th>1</th>\n",
       "      <td>2.0</td>\n",
       "      <td>1.0</td>\n",
       "      <td>1465.0</td>\n",
       "      <td>1967.0</td>\n",
       "      <td>97099.0</td>\n",
       "      <td>6111.0</td>\n",
       "      <td>464000.0</td>\n",
       "      <td>0.055619</td>\n",
       "    </tr>\n",
       "    <tr>\n",
       "      <th>2</th>\n",
       "      <td>3.0</td>\n",
       "      <td>2.0</td>\n",
       "      <td>1243.0</td>\n",
       "      <td>1962.0</td>\n",
       "      <td>97078.0</td>\n",
       "      <td>6059.0</td>\n",
       "      <td>564778.0</td>\n",
       "      <td>0.005383</td>\n",
       "    </tr>\n",
       "    <tr>\n",
       "      <th>3</th>\n",
       "      <td>4.0</td>\n",
       "      <td>3.0</td>\n",
       "      <td>2376.0</td>\n",
       "      <td>1970.0</td>\n",
       "      <td>96330.0</td>\n",
       "      <td>6037.0</td>\n",
       "      <td>145143.0</td>\n",
       "      <td>-0.103410</td>\n",
       "    </tr>\n",
       "    <tr>\n",
       "      <th>4</th>\n",
       "      <td>4.0</td>\n",
       "      <td>3.0</td>\n",
       "      <td>2962.0</td>\n",
       "      <td>1950.0</td>\n",
       "      <td>96293.0</td>\n",
       "      <td>6037.0</td>\n",
       "      <td>773303.0</td>\n",
       "      <td>-0.001011</td>\n",
       "    </tr>\n",
       "  </tbody>\n",
       "</table>\n",
       "</div>"
      ],
      "text/plain": [
       "   bedrooms  bathrooms  squarefeet  year_built  regionidzip    fips  \\\n",
       "0       4.0        3.5      3100.0      1998.0      96978.0  6059.0   \n",
       "1       2.0        1.0      1465.0      1967.0      97099.0  6111.0   \n",
       "2       3.0        2.0      1243.0      1962.0      97078.0  6059.0   \n",
       "3       4.0        3.0      2376.0      1970.0      96330.0  6037.0   \n",
       "4       4.0        3.0      2962.0      1950.0      96293.0  6037.0   \n",
       "\n",
       "   tax_value  logerror  \n",
       "0  1023282.0  0.025595  \n",
       "1   464000.0  0.055619  \n",
       "2   564778.0  0.005383  \n",
       "3   145143.0 -0.103410  \n",
       "4   773303.0 -0.001011  "
      ]
     },
     "execution_count": 32,
     "metadata": {},
     "output_type": "execute_result"
    }
   ],
   "source": [
    "df.head()"
   ]
  },
  {
   "cell_type": "code",
   "execution_count": 33,
   "id": "8ba63b97",
   "metadata": {},
   "outputs": [
    {
     "data": {
      "text/plain": [
       "6037.0    33868\n",
       "6059.0    14079\n",
       "6111.0     4354\n",
       "Name: fips, dtype: int64"
      ]
     },
     "execution_count": 33,
     "metadata": {},
     "output_type": "execute_result"
    }
   ],
   "source": [
    "# Look at how counties compare in number\n",
    "### 6037 = Los Angeles County\n",
    "### 6059 = Orange County\n",
    "### 6111 = Ventura County\n",
    "df.fips.value_counts()"
   ]
  },
  {
   "cell_type": "code",
   "execution_count": 34,
   "id": "0d4fd40f",
   "metadata": {},
   "outputs": [],
   "source": [
    "df['county'] = df.fips"
   ]
  },
  {
   "cell_type": "code",
   "execution_count": 35,
   "id": "d6b2e633",
   "metadata": {},
   "outputs": [
    {
     "data": {
      "text/html": [
       "<div>\n",
       "<style scoped>\n",
       "    .dataframe tbody tr th:only-of-type {\n",
       "        vertical-align: middle;\n",
       "    }\n",
       "\n",
       "    .dataframe tbody tr th {\n",
       "        vertical-align: top;\n",
       "    }\n",
       "\n",
       "    .dataframe thead th {\n",
       "        text-align: right;\n",
       "    }\n",
       "</style>\n",
       "<table border=\"1\" class=\"dataframe\">\n",
       "  <thead>\n",
       "    <tr style=\"text-align: right;\">\n",
       "      <th></th>\n",
       "      <th>bedrooms</th>\n",
       "      <th>bathrooms</th>\n",
       "      <th>squarefeet</th>\n",
       "      <th>year_built</th>\n",
       "      <th>regionidzip</th>\n",
       "      <th>fips</th>\n",
       "      <th>tax_value</th>\n",
       "      <th>logerror</th>\n",
       "      <th>county</th>\n",
       "    </tr>\n",
       "  </thead>\n",
       "  <tbody>\n",
       "    <tr>\n",
       "      <th>0</th>\n",
       "      <td>4.0</td>\n",
       "      <td>3.5</td>\n",
       "      <td>3100.0</td>\n",
       "      <td>1998.0</td>\n",
       "      <td>96978.0</td>\n",
       "      <td>6059.0</td>\n",
       "      <td>1023282.0</td>\n",
       "      <td>0.025595</td>\n",
       "      <td>6059.0</td>\n",
       "    </tr>\n",
       "    <tr>\n",
       "      <th>1</th>\n",
       "      <td>2.0</td>\n",
       "      <td>1.0</td>\n",
       "      <td>1465.0</td>\n",
       "      <td>1967.0</td>\n",
       "      <td>97099.0</td>\n",
       "      <td>6111.0</td>\n",
       "      <td>464000.0</td>\n",
       "      <td>0.055619</td>\n",
       "      <td>6111.0</td>\n",
       "    </tr>\n",
       "    <tr>\n",
       "      <th>2</th>\n",
       "      <td>3.0</td>\n",
       "      <td>2.0</td>\n",
       "      <td>1243.0</td>\n",
       "      <td>1962.0</td>\n",
       "      <td>97078.0</td>\n",
       "      <td>6059.0</td>\n",
       "      <td>564778.0</td>\n",
       "      <td>0.005383</td>\n",
       "      <td>6059.0</td>\n",
       "    </tr>\n",
       "    <tr>\n",
       "      <th>3</th>\n",
       "      <td>4.0</td>\n",
       "      <td>3.0</td>\n",
       "      <td>2376.0</td>\n",
       "      <td>1970.0</td>\n",
       "      <td>96330.0</td>\n",
       "      <td>6037.0</td>\n",
       "      <td>145143.0</td>\n",
       "      <td>-0.103410</td>\n",
       "      <td>6037.0</td>\n",
       "    </tr>\n",
       "    <tr>\n",
       "      <th>4</th>\n",
       "      <td>4.0</td>\n",
       "      <td>3.0</td>\n",
       "      <td>2962.0</td>\n",
       "      <td>1950.0</td>\n",
       "      <td>96293.0</td>\n",
       "      <td>6037.0</td>\n",
       "      <td>773303.0</td>\n",
       "      <td>-0.001011</td>\n",
       "      <td>6037.0</td>\n",
       "    </tr>\n",
       "  </tbody>\n",
       "</table>\n",
       "</div>"
      ],
      "text/plain": [
       "   bedrooms  bathrooms  squarefeet  year_built  regionidzip    fips  \\\n",
       "0       4.0        3.5      3100.0      1998.0      96978.0  6059.0   \n",
       "1       2.0        1.0      1465.0      1967.0      97099.0  6111.0   \n",
       "2       3.0        2.0      1243.0      1962.0      97078.0  6059.0   \n",
       "3       4.0        3.0      2376.0      1970.0      96330.0  6037.0   \n",
       "4       4.0        3.0      2962.0      1950.0      96293.0  6037.0   \n",
       "\n",
       "   tax_value  logerror  county  \n",
       "0  1023282.0  0.025595  6059.0  \n",
       "1   464000.0  0.055619  6111.0  \n",
       "2   564778.0  0.005383  6059.0  \n",
       "3   145143.0 -0.103410  6037.0  \n",
       "4   773303.0 -0.001011  6037.0  "
      ]
     },
     "execution_count": 35,
     "metadata": {},
     "output_type": "execute_result"
    }
   ],
   "source": [
    "df.head()"
   ]
  },
  {
   "cell_type": "code",
   "execution_count": 36,
   "id": "d4682f98",
   "metadata": {},
   "outputs": [
    {
     "data": {
      "image/png": "[encoded data removed]",
      "text/plain": [
       "<Figure size 360x360 with 1 Axes>"
      ]
     },
     "metadata": {
      "needs_background": "light"
     },
     "output_type": "display_data"
    }
   ],
   "source": [
    "#Look at how log error compares amongst counties\n",
    "sns.relplot(data=train, x='logerror', y='fips');"
   ]
  },
  {
   "cell_type": "code",
   "execution_count": 37,
   "id": "9e0f4ced",
   "metadata": {},
   "outputs": [
    {
     "data": {
      "image/png": "[encoded data removed]",
      "text/plain": [
       "<Figure size 421.5x360 with 1 Axes>"
      ]
     },
     "metadata": {
      "needs_background": "light"
     },
     "output_type": "display_data"
    }
   ],
   "source": [
    "#Plotting distribution of log error by county\n",
    "# 6037 (Los Angeles)\n",
    "# 6059 (Orange)\n",
    "# 6111 (Ventura)\n",
    "sns.displot(train, x='logerror', hue='fips', kind='kde', fill=True)\n",
    "plt.title('Log Error by County')\n",
    "plt.xlabel('Log Error')\n",
    "plt.xlim(-0.75, 0.75)\n",
    "plt.show()"
   ]
  },
  {
   "cell_type": "markdown",
   "id": "521e9996",
   "metadata": {},
   "source": [
    "### Levene's Test: test for equal variance\n",
    "$Ho$: There is no difference in logerror variance between the counties\n",
    "\n",
    "$Ha$: There is a difference in logerror variance between the counties"
   ]
  },
  {
   "cell_type": "code",
   "execution_count": 38,
   "id": "0dfff970",
   "metadata": {},
   "outputs": [
    {
     "data": {
      "text/plain": [
       "LeveneResult(statistic=30.010494696419695, pvalue=4.3376990072999935e-08)"
      ]
     },
     "execution_count": 38,
     "metadata": {},
     "output_type": "execute_result"
    }
   ],
   "source": [
    "stats.levene(\n",
    "    train[train.fips == 6037.0].logerror,\n",
    "    train[train.fips != 6037.0].logerror,\n",
    ")"
   ]
  },
  {
   "cell_type": "code",
   "execution_count": 39,
   "id": "e8d221e2",
   "metadata": {},
   "outputs": [
    {
     "data": {
      "text/plain": [
       "LeveneResult(statistic=10.958357527859517, pvalue=0.0009331151116549161)"
      ]
     },
     "execution_count": 39,
     "metadata": {},
     "output_type": "execute_result"
    }
   ],
   "source": [
    "stats.levene(\n",
    "    train[train.fips == 6059.0].logerror,\n",
    "    train[train.fips != 6059.0].logerror,\n",
    ")"
   ]
  },
  {
   "cell_type": "code",
   "execution_count": 40,
   "id": "674a5b18",
   "metadata": {},
   "outputs": [
    {
     "data": {
      "text/plain": [
       "LeveneResult(statistic=17.38043530241002, pvalue=3.069677609870968e-05)"
      ]
     },
     "execution_count": 40,
     "metadata": {},
     "output_type": "execute_result"
    }
   ],
   "source": [
    "stats.levene(\n",
    "    train[train.fips == 6111.0].logerror,\n",
    "    train[train.fips != 6111.0].logerror,\n",
    ")"
   ]
  },
  {
   "cell_type": "code",
   "execution_count": 41,
   "id": "786dda66",
   "metadata": {},
   "outputs": [
    {
     "data": {
      "image/png": "[encoded data removed]",
      "text/plain": [
       "<Figure size 432x288 with 1 Axes>"
      ]
     },
     "metadata": {
      "needs_background": "light"
     },
     "output_type": "display_data"
    }
   ],
   "source": [
    "sns.scatterplot(data=train, y='logerror', x='fips');"
   ]
  },
  {
   "cell_type": "markdown",
   "id": "1bd5d77f",
   "metadata": {},
   "source": [
    "### Conclusion:\n",
    "We reject the null hypothesis that the variance in logerror is the same for all counties. The variance is not equal."
   ]
  },
  {
   "cell_type": "markdown",
   "id": "431813e2",
   "metadata": {},
   "source": [
    "### My third question:\n",
    "## Question 4: Does log error differ for different number of bedrooms?"
   ]
  },
  {
   "cell_type": "code",
   "execution_count": 52,
   "id": "19a10e7e",
   "metadata": {},
   "outputs": [
    {
     "data": {
      "image/png": "[encoded data removed]",
      "text/plain": [
       "<Figure size 432x288 with 1 Axes>"
      ]
     },
     "metadata": {
      "needs_background": "light"
     },
     "output_type": "display_data"
    }
   ],
   "source": [
    "ax = train.bedrooms.hist()\n",
    "plt.title('Histogram: Bedrooms')\n",
    "plt.xlabel('Bedrooms')\n",
    "plt.ylabel('Count')\n",
    "ax.axvline(2, color='black')\n",
    "ax.axvline(4, color='black');"
   ]
  },
  {
   "cell_type": "code",
   "execution_count": 53,
   "id": "a821eb20",
   "metadata": {},
   "outputs": [
    {
     "data": {
      "image/png": "[encoded data removed]",
      "text/plain": [
       "<Figure size 576x432 with 1 Axes>"
      ]
     },
     "metadata": {
      "needs_background": "light"
     },
     "output_type": "display_data"
    }
   ],
   "source": [
    "train.plot.scatter(\n",
    "    y=\"logerror\",\n",
    "    x=\"bedrooms\",\n",
    "    title='Is there a relationship between log error and bedrooms?',\n",
    "    figsize=(8, 6),\n",
    ");"
   ]
  },
  {
   "cell_type": "code",
   "execution_count": 54,
   "id": "7cb3b737",
   "metadata": {},
   "outputs": [
    {
     "data": {
      "image/png": "[encoded data removed]",
      "text/plain": [
       "<Figure size 432x288 with 1 Axes>"
      ]
     },
     "metadata": {
      "needs_background": "light"
     },
     "output_type": "display_data"
    }
   ],
   "source": [
    "sns.violinplot(data=train, y='logerror', x='bedrooms');"
   ]
  },
  {
   "cell_type": "markdown",
   "id": "33d5acfa",
   "metadata": {},
   "source": [
    "### Levene's Test: test for equal variance\n",
    "$Ho$: There is no difference in logerror variance for different number of bedrooms\n",
    "\n",
    "$Ha$: There is a difference in logerror variance different number of bedrooms"
   ]
  },
  {
   "cell_type": "code",
   "execution_count": 55,
   "id": "aa9c07a7",
   "metadata": {},
   "outputs": [
    {
     "data": {
      "text/plain": [
       "LeveneResult(statistic=4.194813131156661, pvalue=0.040558029872654736)"
      ]
     },
     "execution_count": 55,
     "metadata": {},
     "output_type": "execute_result"
    }
   ],
   "source": [
    "stats.levene(\n",
    "    train[train.bedrooms <= 4].logerror,\n",
    "    train[train.bedrooms > 4].logerror,\n",
    ")"
   ]
  },
  {
   "cell_type": "code",
   "execution_count": 56,
   "id": "e97ccb07",
   "metadata": {},
   "outputs": [],
   "source": [
    "# We fail to reject the null hypothesis that there is no difference in logerror variance for different number of bedrooms.\n",
    "# The variance is equal."
   ]
  },
  {
   "cell_type": "markdown",
   "id": "71c77d71",
   "metadata": {},
   "source": [
    "### Is the log error the same for properties with 4 or less as those with more than 4 bedrooms?\n",
    "$Ho$: The logerror is the same for properties with 4 bedrooms or less as with those with more than 4 bedrooms\n",
    "\n",
    "$Ha$: The logerror is not the same for properties with 4 bedrooms or less as with those with 5 bedrooms"
   ]
  },
  {
   "cell_type": "code",
   "execution_count": 57,
   "id": "d0c0202b",
   "metadata": {},
   "outputs": [
    {
     "data": {
      "text/plain": [
       "Ttest_indResult(statistic=-3.2583126946976155, pvalue=0.0011222331296822806)"
      ]
     },
     "execution_count": 57,
     "metadata": {},
     "output_type": "execute_result"
    }
   ],
   "source": [
    "stats.ttest_ind(\n",
    "   train[train.bedrooms <= 4].logerror,\n",
    "    train[train.bedrooms > 4].logerror,\n",
    "    equal_var=True,\n",
    ")"
   ]
  },
  {
   "cell_type": "markdown",
   "id": "e34adc41",
   "metadata": {},
   "source": [
    "### Conclusion:\n",
    "We reject the null hypothesis that the log error is the same for properties with 4 bedrooms or less compared to those with 5 bedrooms. The log error is not the same for properties with 4 bedrooms or less compared to those with 5 bedrooms."
   ]
  },
  {
   "cell_type": "code",
   "execution_count": 58,
   "id": "98eebe42",
   "metadata": {},
   "outputs": [
    {
     "data": {
      "image/png": "[encoded data removed]",
      "text/plain": [
       "<Figure size 360x360 with 1 Axes>"
      ]
     },
     "metadata": {
      "needs_background": "light"
     },
     "output_type": "display_data"
    }
   ],
   "source": [
    "sns.relplot(\n",
    "    y='bedrooms',\n",
    "    x='logerror',\n",
    "    data=train,\n",
    ")\n",
    "plt.title(\"Does log error depend on number of bedrooms?\");"
   ]
  },
  {
   "cell_type": "markdown",
   "id": "ade9b49e",
   "metadata": {},
   "source": [
    "### Hypothesis:\n",
    "$Ho$: There is no correlation between number of bedrooms and log error\n",
    "\n",
    "$Ha$: Number of bedrooms and log error are correlated"
   ]
  },
  {
   "cell_type": "code",
   "execution_count": 59,
   "id": "851ad008",
   "metadata": {},
   "outputs": [],
   "source": [
    "x = train.bedrooms\n",
    "y = train.logerror"
   ]
  },
  {
   "cell_type": "code",
   "execution_count": 60,
   "id": "6abe8c42",
   "metadata": {},
   "outputs": [
    {
     "data": {
      "text/plain": [
       "(0.03225622503401226, 2.5387176901235895e-07)"
      ]
     },
     "execution_count": 60,
     "metadata": {},
     "output_type": "execute_result"
    }
   ],
   "source": [
    "corr, p = stats.pearsonr(x, y)\n",
    "corr, p"
   ]
  },
  {
   "cell_type": "markdown",
   "id": "069c8cdb",
   "metadata": {},
   "source": [
    "#### Null hypothesis is rejected.  Number of bedrooms and log error are correlated."
   ]
  },
  {
   "cell_type": "markdown",
   "id": "631e0124",
   "metadata": {},
   "source": [
    "# Clustering\n",
    "### Use Clustering to Identify Possible Features of Interest\n",
    " - Not having any features indicating location near the coast, will look at latitude and longitude features to see if we can create a possible feature of interest for modeling and predicting"
   ]
  },
  {
   "cell_type": "code",
   "execution_count": 62,
   "id": "f84005bd",
   "metadata": {},
   "outputs": [
    {
     "data": {
      "text/html": [
       "<div>\n",
       "<style scoped>\n",
       "    .dataframe tbody tr th:only-of-type {\n",
       "        vertical-align: middle;\n",
       "    }\n",
       "\n",
       "    .dataframe tbody tr th {\n",
       "        vertical-align: top;\n",
       "    }\n",
       "\n",
       "    .dataframe thead th {\n",
       "        text-align: right;\n",
       "    }\n",
       "</style>\n",
       "<table border=\"1\" class=\"dataframe\">\n",
       "  <thead>\n",
       "    <tr style=\"text-align: right;\">\n",
       "      <th></th>\n",
       "      <th>bedrooms</th>\n",
       "      <th>bathrooms</th>\n",
       "      <th>squarefeet</th>\n",
       "      <th>year_built</th>\n",
       "      <th>regionidzip</th>\n",
       "      <th>fips</th>\n",
       "      <th>tax_value</th>\n",
       "      <th>logerror</th>\n",
       "      <th>years_old</th>\n",
       "      <th>sq_ft_bins</th>\n",
       "    </tr>\n",
       "  </thead>\n",
       "  <tbody>\n",
       "    <tr>\n",
       "      <th>36317</th>\n",
       "      <td>3</td>\n",
       "      <td>2.0</td>\n",
       "      <td>0.322392</td>\n",
       "      <td>1959</td>\n",
       "      <td>97104</td>\n",
       "      <td>6111</td>\n",
       "      <td>0.046060</td>\n",
       "      <td>0.034616</td>\n",
       "      <td>58.0</td>\n",
       "      <td>(0, 1000]</td>\n",
       "    </tr>\n",
       "    <tr>\n",
       "      <th>26167</th>\n",
       "      <td>3</td>\n",
       "      <td>2.0</td>\n",
       "      <td>0.328839</td>\n",
       "      <td>1953</td>\n",
       "      <td>96201</td>\n",
       "      <td>6037</td>\n",
       "      <td>0.049221</td>\n",
       "      <td>0.168734</td>\n",
       "      <td>64.0</td>\n",
       "      <td>(0, 1000]</td>\n",
       "    </tr>\n",
       "    <tr>\n",
       "      <th>635</th>\n",
       "      <td>4</td>\n",
       "      <td>2.5</td>\n",
       "      <td>0.596131</td>\n",
       "      <td>1986</td>\n",
       "      <td>97097</td>\n",
       "      <td>6111</td>\n",
       "      <td>0.607301</td>\n",
       "      <td>0.046620</td>\n",
       "      <td>31.0</td>\n",
       "      <td>(0, 1000]</td>\n",
       "    </tr>\n",
       "    <tr>\n",
       "      <th>49331</th>\n",
       "      <td>4</td>\n",
       "      <td>3.0</td>\n",
       "      <td>0.588218</td>\n",
       "      <td>1964</td>\n",
       "      <td>97118</td>\n",
       "      <td>6111</td>\n",
       "      <td>0.321354</td>\n",
       "      <td>-0.001710</td>\n",
       "      <td>53.0</td>\n",
       "      <td>(0, 1000]</td>\n",
       "    </tr>\n",
       "    <tr>\n",
       "      <th>10086</th>\n",
       "      <td>4</td>\n",
       "      <td>2.0</td>\n",
       "      <td>0.351700</td>\n",
       "      <td>1954</td>\n",
       "      <td>96370</td>\n",
       "      <td>6037</td>\n",
       "      <td>0.414059</td>\n",
       "      <td>-0.044853</td>\n",
       "      <td>63.0</td>\n",
       "      <td>(0, 1000]</td>\n",
       "    </tr>\n",
       "    <tr>\n",
       "      <th>...</th>\n",
       "      <td>...</td>\n",
       "      <td>...</td>\n",
       "      <td>...</td>\n",
       "      <td>...</td>\n",
       "      <td>...</td>\n",
       "      <td>...</td>\n",
       "      <td>...</td>\n",
       "      <td>...</td>\n",
       "      <td>...</td>\n",
       "      <td>...</td>\n",
       "    </tr>\n",
       "    <tr>\n",
       "      <th>13559</th>\n",
       "      <td>2</td>\n",
       "      <td>2.0</td>\n",
       "      <td>0.291618</td>\n",
       "      <td>1981</td>\n",
       "      <td>97097</td>\n",
       "      <td>6111</td>\n",
       "      <td>0.336775</td>\n",
       "      <td>0.030358</td>\n",
       "      <td>36.0</td>\n",
       "      <td>(0, 1000]</td>\n",
       "    </tr>\n",
       "    <tr>\n",
       "      <th>27531</th>\n",
       "      <td>3</td>\n",
       "      <td>2.0</td>\n",
       "      <td>0.483001</td>\n",
       "      <td>1924</td>\n",
       "      <td>96088</td>\n",
       "      <td>6037</td>\n",
       "      <td>0.181984</td>\n",
       "      <td>0.155381</td>\n",
       "      <td>93.0</td>\n",
       "      <td>(0, 1000]</td>\n",
       "    </tr>\n",
       "    <tr>\n",
       "      <th>29300</th>\n",
       "      <td>3</td>\n",
       "      <td>2.0</td>\n",
       "      <td>0.295428</td>\n",
       "      <td>1959</td>\n",
       "      <td>96389</td>\n",
       "      <td>6037</td>\n",
       "      <td>0.378889</td>\n",
       "      <td>-0.019557</td>\n",
       "      <td>58.0</td>\n",
       "      <td>(0, 1000]</td>\n",
       "    </tr>\n",
       "    <tr>\n",
       "      <th>45208</th>\n",
       "      <td>4</td>\n",
       "      <td>3.0</td>\n",
       "      <td>0.448124</td>\n",
       "      <td>1957</td>\n",
       "      <td>97317</td>\n",
       "      <td>6037</td>\n",
       "      <td>0.168777</td>\n",
       "      <td>0.003652</td>\n",
       "      <td>60.0</td>\n",
       "      <td>(0, 1000]</td>\n",
       "    </tr>\n",
       "    <tr>\n",
       "      <th>12115</th>\n",
       "      <td>4</td>\n",
       "      <td>2.0</td>\n",
       "      <td>0.298945</td>\n",
       "      <td>1964</td>\n",
       "      <td>96964</td>\n",
       "      <td>6059</td>\n",
       "      <td>0.179393</td>\n",
       "      <td>0.001571</td>\n",
       "      <td>53.0</td>\n",
       "      <td>(0, 1000]</td>\n",
       "    </tr>\n",
       "  </tbody>\n",
       "</table>\n",
       "<p>25528 rows × 10 columns</p>\n",
       "</div>"
      ],
      "text/plain": [
       "       bedrooms  bathrooms  squarefeet  year_built  regionidzip  fips  \\\n",
       "36317         3        2.0    0.322392        1959        97104  6111   \n",
       "26167         3        2.0    0.328839        1953        96201  6037   \n",
       "635           4        2.5    0.596131        1986        97097  6111   \n",
       "49331         4        3.0    0.588218        1964        97118  6111   \n",
       "10086         4        2.0    0.351700        1954        96370  6037   \n",
       "...         ...        ...         ...         ...          ...   ...   \n",
       "13559         2        2.0    0.291618        1981        97097  6111   \n",
       "27531         3        2.0    0.483001        1924        96088  6037   \n",
       "29300         3        2.0    0.295428        1959        96389  6037   \n",
       "45208         4        3.0    0.448124        1957        97317  6037   \n",
       "12115         4        2.0    0.298945        1964        96964  6059   \n",
       "\n",
       "       tax_value  logerror  years_old sq_ft_bins  \n",
       "36317   0.046060  0.034616       58.0  (0, 1000]  \n",
       "26167   0.049221  0.168734       64.0  (0, 1000]  \n",
       "635     0.607301  0.046620       31.0  (0, 1000]  \n",
       "49331   0.321354 -0.001710       53.0  (0, 1000]  \n",
       "10086   0.414059 -0.044853       63.0  (0, 1000]  \n",
       "...          ...       ...        ...        ...  \n",
       "13559   0.336775  0.030358       36.0  (0, 1000]  \n",
       "27531   0.181984  0.155381       93.0  (0, 1000]  \n",
       "29300   0.378889 -0.019557       58.0  (0, 1000]  \n",
       "45208   0.168777  0.003652       60.0  (0, 1000]  \n",
       "12115   0.179393  0.001571       53.0  (0, 1000]  \n",
       "\n",
       "[25528 rows x 10 columns]"
      ]
     },
     "execution_count": 62,
     "metadata": {},
     "output_type": "execute_result"
    }
   ],
   "source": [
    "train"
   ]
  },
  {
   "cell_type": "markdown",
   "id": "204abf91",
   "metadata": {},
   "source": [
    "## Clustering Model #1:"
   ]
  },
  {
   "cell_type": "code",
   "execution_count": 61,
   "id": "643839b1",
   "metadata": {},
   "outputs": [
    {
     "ename": "KeyError",
     "evalue": "\"None of [Index(['latitude', 'longitude'], dtype='object')] are in the [columns]\"",
     "output_type": "error",
     "traceback": [
      "\u001b[0;31m---------------------------------------------------------------------------\u001b[0m",
      "\u001b[0;31mKeyError\u001b[0m                                  Traceback (most recent call last)",
      "\u001b[0;32m<ipython-input-61-c631be08de1f>\u001b[0m in \u001b[0;36m<module>\u001b[0;34m\u001b[0m\n\u001b[1;32m      2\u001b[0m \u001b[0;31m# define independent variables for k-means\u001b[0m\u001b[0;34m\u001b[0m\u001b[0;34m\u001b[0m\u001b[0;34m\u001b[0m\u001b[0m\n\u001b[1;32m      3\u001b[0m \u001b[0;34m\u001b[0m\u001b[0m\n\u001b[0;32m----> 4\u001b[0;31m \u001b[0mX\u001b[0m \u001b[0;34m=\u001b[0m \u001b[0mtrain\u001b[0m\u001b[0;34m[\u001b[0m\u001b[0;34m[\u001b[0m\u001b[0;34m'latitude'\u001b[0m\u001b[0;34m,\u001b[0m \u001b[0;34m'longitude'\u001b[0m\u001b[0;34m]\u001b[0m\u001b[0;34m]\u001b[0m\u001b[0;34m\u001b[0m\u001b[0;34m\u001b[0m\u001b[0m\n\u001b[0m\u001b[1;32m      5\u001b[0m \u001b[0mscaler\u001b[0m \u001b[0;34m=\u001b[0m \u001b[0mMinMaxScaler\u001b[0m\u001b[0;34m(\u001b[0m\u001b[0;34m)\u001b[0m\u001b[0;34m.\u001b[0m\u001b[0mfit\u001b[0m\u001b[0;34m(\u001b[0m\u001b[0mX\u001b[0m\u001b[0;34m)\u001b[0m\u001b[0;34m\u001b[0m\u001b[0;34m\u001b[0m\u001b[0m\n\u001b[1;32m      6\u001b[0m \u001b[0mX_scaled_lat_long\u001b[0m \u001b[0;34m=\u001b[0m \u001b[0mpd\u001b[0m\u001b[0;34m.\u001b[0m\u001b[0mDataFrame\u001b[0m\u001b[0;34m(\u001b[0m\u001b[0mscaler\u001b[0m\u001b[0;34m.\u001b[0m\u001b[0mtransform\u001b[0m\u001b[0;34m(\u001b[0m\u001b[0mX\u001b[0m\u001b[0;34m)\u001b[0m\u001b[0;34m,\u001b[0m \u001b[0mcolumns\u001b[0m\u001b[0;34m=\u001b[0m \u001b[0mX\u001b[0m\u001b[0;34m.\u001b[0m\u001b[0mcolumns\u001b[0m\u001b[0;34m)\u001b[0m\u001b[0;34m.\u001b[0m\u001b[0mset_index\u001b[0m\u001b[0;34m(\u001b[0m\u001b[0;34m[\u001b[0m\u001b[0mX\u001b[0m\u001b[0;34m.\u001b[0m\u001b[0mindex\u001b[0m\u001b[0;34m.\u001b[0m\u001b[0mvalues\u001b[0m\u001b[0;34m]\u001b[0m\u001b[0;34m)\u001b[0m\u001b[0;34m\u001b[0m\u001b[0;34m\u001b[0m\u001b[0m\n",
      "\u001b[0;32m/opt/homebrew/anaconda3/lib/python3.8/site-packages/pandas/core/frame.py\u001b[0m in \u001b[0;36m__getitem__\u001b[0;34m(self, key)\u001b[0m\n\u001b[1;32m   3028\u001b[0m             \u001b[0;32mif\u001b[0m \u001b[0mis_iterator\u001b[0m\u001b[0;34m(\u001b[0m\u001b[0mkey\u001b[0m\u001b[0;34m)\u001b[0m\u001b[0;34m:\u001b[0m\u001b[0;34m\u001b[0m\u001b[0;34m\u001b[0m\u001b[0m\n\u001b[1;32m   3029\u001b[0m                 \u001b[0mkey\u001b[0m \u001b[0;34m=\u001b[0m \u001b[0mlist\u001b[0m\u001b[0;34m(\u001b[0m\u001b[0mkey\u001b[0m\u001b[0;34m)\u001b[0m\u001b[0;34m\u001b[0m\u001b[0;34m\u001b[0m\u001b[0m\n\u001b[0;32m-> 3030\u001b[0;31m             \u001b[0mindexer\u001b[0m \u001b[0;34m=\u001b[0m \u001b[0mself\u001b[0m\u001b[0;34m.\u001b[0m\u001b[0mloc\u001b[0m\u001b[0;34m.\u001b[0m\u001b[0m_get_listlike_indexer\u001b[0m\u001b[0;34m(\u001b[0m\u001b[0mkey\u001b[0m\u001b[0;34m,\u001b[0m \u001b[0maxis\u001b[0m\u001b[0;34m=\u001b[0m\u001b[0;36m1\u001b[0m\u001b[0;34m,\u001b[0m \u001b[0mraise_missing\u001b[0m\u001b[0;34m=\u001b[0m\u001b[0;32mTrue\u001b[0m\u001b[0;34m)\u001b[0m\u001b[0;34m[\u001b[0m\u001b[0;36m1\u001b[0m\u001b[0;34m]\u001b[0m\u001b[0;34m\u001b[0m\u001b[0;34m\u001b[0m\u001b[0m\n\u001b[0m\u001b[1;32m   3031\u001b[0m \u001b[0;34m\u001b[0m\u001b[0m\n\u001b[1;32m   3032\u001b[0m         \u001b[0;31m# take() does not accept boolean indexers\u001b[0m\u001b[0;34m\u001b[0m\u001b[0;34m\u001b[0m\u001b[0;34m\u001b[0m\u001b[0m\n",
      "\u001b[0;32m/opt/homebrew/anaconda3/lib/python3.8/site-packages/pandas/core/indexing.py\u001b[0m in \u001b[0;36m_get_listlike_indexer\u001b[0;34m(self, key, axis, raise_missing)\u001b[0m\n\u001b[1;32m   1264\u001b[0m             \u001b[0mkeyarr\u001b[0m\u001b[0;34m,\u001b[0m \u001b[0mindexer\u001b[0m\u001b[0;34m,\u001b[0m \u001b[0mnew_indexer\u001b[0m \u001b[0;34m=\u001b[0m \u001b[0max\u001b[0m\u001b[0;34m.\u001b[0m\u001b[0m_reindex_non_unique\u001b[0m\u001b[0;34m(\u001b[0m\u001b[0mkeyarr\u001b[0m\u001b[0;34m)\u001b[0m\u001b[0;34m\u001b[0m\u001b[0;34m\u001b[0m\u001b[0m\n\u001b[1;32m   1265\u001b[0m \u001b[0;34m\u001b[0m\u001b[0m\n\u001b[0;32m-> 1266\u001b[0;31m         \u001b[0mself\u001b[0m\u001b[0;34m.\u001b[0m\u001b[0m_validate_read_indexer\u001b[0m\u001b[0;34m(\u001b[0m\u001b[0mkeyarr\u001b[0m\u001b[0;34m,\u001b[0m \u001b[0mindexer\u001b[0m\u001b[0;34m,\u001b[0m \u001b[0maxis\u001b[0m\u001b[0;34m,\u001b[0m \u001b[0mraise_missing\u001b[0m\u001b[0;34m=\u001b[0m\u001b[0mraise_missing\u001b[0m\u001b[0;34m)\u001b[0m\u001b[0;34m\u001b[0m\u001b[0;34m\u001b[0m\u001b[0m\n\u001b[0m\u001b[1;32m   1267\u001b[0m         \u001b[0;32mreturn\u001b[0m \u001b[0mkeyarr\u001b[0m\u001b[0;34m,\u001b[0m \u001b[0mindexer\u001b[0m\u001b[0;34m\u001b[0m\u001b[0;34m\u001b[0m\u001b[0m\n\u001b[1;32m   1268\u001b[0m \u001b[0;34m\u001b[0m\u001b[0m\n",
      "\u001b[0;32m/opt/homebrew/anaconda3/lib/python3.8/site-packages/pandas/core/indexing.py\u001b[0m in \u001b[0;36m_validate_read_indexer\u001b[0;34m(self, key, indexer, axis, raise_missing)\u001b[0m\n\u001b[1;32m   1306\u001b[0m             \u001b[0;32mif\u001b[0m \u001b[0mmissing\u001b[0m \u001b[0;34m==\u001b[0m \u001b[0mlen\u001b[0m\u001b[0;34m(\u001b[0m\u001b[0mindexer\u001b[0m\u001b[0;34m)\u001b[0m\u001b[0;34m:\u001b[0m\u001b[0;34m\u001b[0m\u001b[0;34m\u001b[0m\u001b[0m\n\u001b[1;32m   1307\u001b[0m                 \u001b[0maxis_name\u001b[0m \u001b[0;34m=\u001b[0m \u001b[0mself\u001b[0m\u001b[0;34m.\u001b[0m\u001b[0mobj\u001b[0m\u001b[0;34m.\u001b[0m\u001b[0m_get_axis_name\u001b[0m\u001b[0;34m(\u001b[0m\u001b[0maxis\u001b[0m\u001b[0;34m)\u001b[0m\u001b[0;34m\u001b[0m\u001b[0;34m\u001b[0m\u001b[0m\n\u001b[0;32m-> 1308\u001b[0;31m                 \u001b[0;32mraise\u001b[0m \u001b[0mKeyError\u001b[0m\u001b[0;34m(\u001b[0m\u001b[0;34mf\"None of [{key}] are in the [{axis_name}]\"\u001b[0m\u001b[0;34m)\u001b[0m\u001b[0;34m\u001b[0m\u001b[0;34m\u001b[0m\u001b[0m\n\u001b[0m\u001b[1;32m   1309\u001b[0m \u001b[0;34m\u001b[0m\u001b[0m\n\u001b[1;32m   1310\u001b[0m             \u001b[0max\u001b[0m \u001b[0;34m=\u001b[0m \u001b[0mself\u001b[0m\u001b[0;34m.\u001b[0m\u001b[0mobj\u001b[0m\u001b[0;34m.\u001b[0m\u001b[0m_get_axis\u001b[0m\u001b[0;34m(\u001b[0m\u001b[0maxis\u001b[0m\u001b[0;34m)\u001b[0m\u001b[0;34m\u001b[0m\u001b[0;34m\u001b[0m\u001b[0m\n",
      "\u001b[0;31mKeyError\u001b[0m: \"None of [Index(['latitude', 'longitude'], dtype='object')] are in the [columns]\""
     ]
    }
   ],
   "source": [
    "# Choose two features to create possible cluster\n",
    "# define independent variables for k-means\n",
    "\n",
    "X = train[['latitude', 'longitude']]\n",
    "scaler = MinMaxScaler().fit(X)\n",
    "X_scaled_lat_long = pd.DataFrame(scaler.transform(X), columns= X.columns).set_index([X.index.values])\n",
    "# sklearn implementation of KMeans\n",
    "\n",
    "#define the thing and create 3 clusters\n",
    "kmeans = KMeans(n_clusters=3, random_state=321)\n",
    "\n",
    "# fit the thing\n",
    "kmeans.fit(X_scaled_lat_long )\n",
    "\n",
    "# Use (predict using) the thing \n",
    "kmeans.predict(X_scaled_lat_long )\n",
    "train['cluster'] = kmeans.predict(X_scaled_lat_long )\n",
    "\n",
    "X_scaled_lat_long['cluster'] = kmeans.predict(X_scaled_lat_long )\n",
    "\n",
    "# look at the dataframe\n",
    "X_scaled_lat_long.head()"
   ]
  }
 ],
 "metadata": {
  "kernelspec": {
   "display_name": "Python 3.8.8 64-bit ('base': conda)",
   "language": "python",
   "name": "python388jvsc74a57bd0b64057e63add2b45b1ffc7eab9b09c8889b419c878e2fdf0d08f837f0fc857a7"
  },
  "language_info": {
   "codemirror_mode": {
    "name": "ipython",
    "version": 3
   },
   "file_extension": ".py",
   "mimetype": "text/x-python",
   "name": "python",
   "nbconvert_exporter": "python",
   "pygments_lexer": "ipython3",
   "version": "3.8.8"
  }
 },
 "nbformat": 4,
 "nbformat_minor": 5
}
